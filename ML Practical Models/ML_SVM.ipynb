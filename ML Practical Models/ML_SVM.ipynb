{
  "nbformat": 4,
  "nbformat_minor": 0,
  "metadata": {
    "colab": {
      "provenance": []
    },
    "kernelspec": {
      "name": "python3",
      "display_name": "Python 3"
    },
    "language_info": {
      "name": "python"
    }
  },
  "cells": [
    {
      "cell_type": "markdown",
      "source": [
        "# ML (SVM)\n",
        "\n"
      ],
      "metadata": {
        "id": "EnhLYIKJE-E2"
      }
    },
    {
      "cell_type": "code",
      "source": [
        "import pandas as pd\n",
        "from sklearn.datasets import load_digits\n",
        "from sklearn.model_selection import train_test_split\n",
        "from sklearn.svm import SVC"
      ],
      "metadata": {
        "colab": {
          "base_uri": "https://localhost:8080/"
        },
        "id": "2HwhzP5EEmtJ",
        "outputId": "488a04c5-a8e7-4f1f-eb49-23644c2a8e3b"
      },
      "execution_count": 1,
      "outputs": [
        {
          "output_type": "execute_result",
          "data": {
            "text/plain": [
              "0.9888888888888889"
            ]
          },
          "metadata": {},
          "execution_count": 1
        }
      ]
    },
    {
      "cell_type": "code",
      "source": [
        "digits = load_digits()\n",
        "df = pd.DataFrame(digits.data,digits.target)\n",
        "df['target'] = digits.target"
      ],
      "metadata": {
        "id": "cbmvLaoDtXCA"
      },
      "execution_count": null,
      "outputs": []
    },
    {
      "cell_type": "code",
      "source": [
        "X_train, X_test, y_train, y_test = train_test_split(df.drop('target',axis='columns'), df.target, test_size=0.3)\n",
        "linear_model = SVC(kernel='linear')\n",
        "linear_model.fit(X_train,y_train)\n",
        "linear_model.score(X_test,y_test)"
      ],
      "metadata": {
        "id": "WlGF-ZOOtYoM"
      },
      "execution_count": null,
      "outputs": []
    }
  ]
}