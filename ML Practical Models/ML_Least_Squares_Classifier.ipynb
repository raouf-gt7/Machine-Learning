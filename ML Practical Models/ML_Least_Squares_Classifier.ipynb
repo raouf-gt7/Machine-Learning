{
  "nbformat": 4,
  "nbformat_minor": 0,
  "metadata": {
    "colab": {
      "provenance": []
    },
    "kernelspec": {
      "name": "python3",
      "display_name": "Python 3"
    }
  },
  "cells": [
    {
      "cell_type": "markdown",
      "metadata": {
        "id": "p54eVSYQonJl"
      },
      "source": [
        "**Problem 1**"
      ]
    },
    {
      "cell_type": "markdown",
      "source": [
        "Consider the following dataset:\n",
        "`Dataset = ([1, 2, 5, 6]), Targets = ([-1,-1,1,1])`\n",
        "\n",
        "Apply the least squares classifier to obtain the corresponding decision boundary if p = 6.\n"
      ],
      "metadata": {
        "id": "SvLGUbaJhkSe"
      }
    },
    {
      "cell_type": "code",
      "metadata": {
        "id": "vkE6K2r5cb5e"
      },
      "source": [
        "import numpy as np"
      ],
      "execution_count": 3,
      "outputs": []
    },
    {
      "cell_type": "code",
      "metadata": {
        "id": "prPiNXKddDGK"
      },
      "source": [
        "x = np.array([1, 2, 5, 6])\n",
        "x_tilda = np.concatenate((x.reshape(4,1), np.ones((4,1))), axis=1) # ~~> converting X into ~X (X tilda)\n",
        "# NB: axis=0 means concatenating rows, axis=1 means concatenating columns (default is 0)\n",
        "targets = np.array([-1,-1,1,1]).reshape(4,1)"
      ],
      "execution_count": 7,
      "outputs": []
    },
    {
      "cell_type": "code",
      "metadata": {
        "colab": {
          "base_uri": "https://localhost:8080/"
        },
        "id": "xXYtCM6DdLWb",
        "outputId": "30917083-fbe4-4fca-a10a-837dce80c9de"
      },
      "source": [
        "w = np.linalg.inv(x_tilda.T @ x_tilda) @ x_tilda.T @ targets\n",
        "print(w)\n",
        "# first element is w1 and second is w0 (w node)"
      ],
      "execution_count": 5,
      "outputs": [
        {
          "output_type": "stream",
          "name": "stdout",
          "text": [
            "[[ 0.47058824]\n",
            " [-1.64705882]]\n"
          ]
        }
      ]
    },
    {
      "cell_type": "markdown",
      "source": [
        "Apply the least squares classifier to obtain the corresponding decision boundary if p = 20."
      ],
      "metadata": {
        "id": "8TQqvdiFhhTG"
      }
    },
    {
      "cell_type": "code",
      "source": [
        "x = np.array([1, 2, 5, 20])\n",
        "x_tilda = np.concatenate((x.reshape(4,1), np.ones((4,1))), axis=1) \n",
        "targets = np.array([-1,-1,1,1]).reshape(4,1)"
      ],
      "metadata": {
        "colab": {
          "base_uri": "https://localhost:8080/"
        },
        "id": "P5GXG06WhjPj",
        "outputId": "1d2797ec-eb3e-4d98-dc62-871929624556"
      },
      "execution_count": 9,
      "outputs": [
        {
          "output_type": "execute_result",
          "data": {
            "text/plain": [
              "array([ 1,  2,  5, 20])"
            ]
          },
          "metadata": {},
          "execution_count": 9
        }
      ]
    },
    {
      "cell_type": "code",
      "source": [
        "w = np.linalg.inv(x_tilda.T @ x_tilda) @ x_tilda.T @ targets\n",
        "print(w)"
      ],
      "metadata": {
        "colab": {
          "base_uri": "https://localhost:8080/"
        },
        "id": "rVRtULbbh7kO",
        "outputId": "1ebd5671-1d79-4291-979c-0bc909ff7ba2"
      },
      "execution_count": 10,
      "outputs": [
        {
          "output_type": "stream",
          "name": "stdout",
          "text": [
            "[[ 0.47058824]\n",
            " [-1.64705882]]\n"
          ]
        }
      ]
    },
    {
      "cell_type": "markdown",
      "metadata": {
        "id": "f9asOXZporDs"
      },
      "source": [
        "**Problem 2**"
      ]
    },
    {
      "cell_type": "markdown",
      "source": [
        "Consider the two-dimensional dataset below: `Dataset: ([[1,1],[5,-5],[-1,-1],[-5,5]]), Targets = ([1,-1,1,-1])`\n",
        "Apply the least squares classifier to obtain the corresponding decision boundary. Comment on the outcome. What could you do to make this classifier work on this dataset?\n",
        "\n",
        "---\n",
        "\n"
      ],
      "metadata": {
        "id": "YHpx5PLwoCja"
      }
    },
    {
      "cell_type": "code",
      "metadata": {
        "id": "PcOiosWMdLTY"
      },
      "source": [
        "x2 = np.array([[1,1],[5,-5],[-1,-1],[-5,5]])\n",
        "x2_tilda = np.concatenate((x2, np.ones((4,1))), axis=1) \n",
        "targets2 = np.array([1,-1,1,-1]).reshape(4,1)\n"
      ],
      "execution_count": 15,
      "outputs": []
    },
    {
      "cell_type": "code",
      "metadata": {
        "colab": {
          "base_uri": "https://localhost:8080/"
        },
        "id": "AZj11N_ndLQb",
        "outputId": "cc4790ee-e3f2-4602-b5fb-6308a8b3d137"
      },
      "source": [
        "w2 = np.linalg.inv(x2_tilda.T @ x2_tilda) @ x2_tilda.T @ targets2\n",
        "print(w2)"
      ],
      "execution_count": 16,
      "outputs": [
        {
          "output_type": "stream",
          "name": "stdout",
          "text": [
            "[[0.]\n",
            " [0.]\n",
            " [0.]]\n"
          ]
        }
      ]
    },
    {
      "cell_type": "markdown",
      "source": [
        "Result of zero means that there exists no solution to this problem. \n",
        "- The least squares classifier is a linear classifier, therefore it failed in classifying a non-linearly separable dataset. \n",
        "- To make the least squares classifier work on this dataset, we can apply nonlinear transformation on the data. \n",
        "- Nonlinear transformation will transform the data from nonlinearly separable data to linearly separable data which could be classified using the least squares classifier.\n",
        "- One of the possible nonlinear transformation functions that could be applied to the data above is the norm/magnitude (the distance between each point and the origin)."
      ],
      "metadata": {
        "id": "HwNvWhvmovEx"
      }
    },
    {
      "cell_type": "markdown",
      "source": [
        "There are two options for the failure of the classifier. \n",
        "1. The first one is that the classifier does not find a decision boundary (zero weight vector) like the above example. \n",
        "2. The second one is that the classifier finds a wrong (or inaccurate) decision boundary.\n"
      ],
      "metadata": {
        "id": "WBP5P1A9pORG"
      }
    }
  ]
}