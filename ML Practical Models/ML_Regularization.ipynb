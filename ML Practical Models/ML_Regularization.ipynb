{
  "cells": [
    {
      "cell_type": "markdown",
      "source": [
        "#ML Regularization Techniques for Polynomial Regression  "
      ],
      "metadata": {
        "id": "YIU8fxjQkS_3"
      }
    },
    {
      "cell_type": "markdown",
      "source": [
        "The main aim of this exercise is to compare the effect of different types of regularization on the polynomial (cubic) regression models produced for the Advertising dataset.\n",
        "> - For L1 regularization, use LassoCV(eps=0.1, n_alphas=100, cv=5).\n",
        "- For L2 regularization, use RidgeCV(alphas=(0.1, 1.0, 10.0), scoring=’neg_mean_absolute_error’).\n",
        "- For L1 & L2 combined regularization, use ElasticNetCV(l1_ratio=[.1, .5, .7, .9, .95, .99, 1], tol=0.01).\n",
        "- We will output the RMSE, coefficients and plot the output for each.\n",
        "- We will also perform feature scaling on the data before giving it to the models.\n"
      ],
      "metadata": {
        "id": "t3B8A4kIjdX6"
      }
    },
    {
      "cell_type": "markdown",
      "metadata": {
        "id": "SaRaZ2Wlc16K"
      },
      "source": [
        "## Imports"
      ]
    },
    {
      "cell_type": "code",
      "execution_count": 3,
      "metadata": {
        "id": "qFEU1gmWc16K"
      },
      "outputs": [],
      "source": [
        "import numpy as np\n",
        "import pandas as pd\n",
        "import matplotlib.pyplot as plt\n",
        "import seaborn as sns"
      ]
    },
    {
      "cell_type": "markdown",
      "metadata": {
        "id": "J2VyF_vUc16L"
      },
      "source": [
        "## Data and Setup"
      ]
    },
    {
      "cell_type": "code",
      "execution_count": 4,
      "metadata": {
        "id": "No2zuEa4c16M"
      },
      "outputs": [],
      "source": [
        "df = pd.read_csv(\"Advertising.csv\")\n",
        "X = df.drop('sales',axis=1)\n",
        "y = df['sales']"
      ]
    },
    {
      "cell_type": "markdown",
      "metadata": {
        "id": "1_ZIyhFBc16M"
      },
      "source": [
        "### Polynomial Conversion"
      ]
    },
    {
      "cell_type": "code",
      "execution_count": 5,
      "metadata": {
        "id": "DpAeYXhec16M"
      },
      "outputs": [],
      "source": [
        "from sklearn.preprocessing import PolynomialFeatures\n",
        "polynomial_converter = PolynomialFeatures(degree=3,include_bias=False)\n",
        "poly_features = polynomial_converter.fit_transform(X)"
      ]
    },
    {
      "cell_type": "markdown",
      "metadata": {
        "id": "mZKbKdu3c16O"
      },
      "source": [
        "### Train | Test Split"
      ]
    },
    {
      "cell_type": "code",
      "execution_count": 6,
      "metadata": {
        "id": "ZwqP9YOsc16O"
      },
      "outputs": [],
      "source": [
        "from sklearn.model_selection import train_test_split\n",
        "X_train, X_test, y_train, y_test = train_test_split(poly_features, y, test_size=0.3, random_state=101)"
      ]
    },
    {
      "cell_type": "markdown",
      "metadata": {
        "id": "KvyJf7FQc16O"
      },
      "source": [
        "\n",
        "\n",
        "## Scaling the Data"
      ]
    },
    {
      "cell_type": "code",
      "execution_count": 7,
      "metadata": {
        "id": "v4VPUxksc16P"
      },
      "outputs": [],
      "source": [
        "from sklearn.preprocessing import StandardScaler\n",
        "scaler = StandardScaler()\n",
        "scaler.fit(X_train)\n",
        "X_train = scaler.transform(X_train)\n",
        "X_test = scaler.transform(X_test)"
      ]
    },
    {
      "cell_type": "markdown",
      "metadata": {
        "id": "QAgJBaMJc16Q"
      },
      "source": [
        "-----\n",
        "\n",
        "## RidgeCV Regression\n"
      ]
    },
    {
      "cell_type": "code",
      "execution_count": 8,
      "metadata": {
        "id": "rXLvictqc16R"
      },
      "outputs": [],
      "source": [
        "from sklearn.linear_model import RidgeCV\n",
        "ridge_cv_model = RidgeCV(alphas=(0.1, 1.0, 10.0),scoring='neg_mean_absolute_error')\n",
        "ridge_cv_model.fit(X_train,y_train)\n",
        "ridge_cv_model.coef_\n",
        "test_predictions = ridge_cv_model.predict(X_test)"
      ]
    },
    {
      "cell_type": "code",
      "execution_count": 9,
      "metadata": {
        "id": "jjsmKTVQc16R",
        "colab": {
          "base_uri": "https://localhost:8080/"
        },
        "outputId": "5e58348b-15b8-4a5c-88b7-42aaf81eb950"
      },
      "outputs": [
        {
          "output_type": "execute_result",
          "data": {
            "text/plain": [
              "0.6180719926938822"
            ]
          },
          "metadata": {},
          "execution_count": 9
        }
      ],
      "source": [
        "from sklearn.metrics import mean_absolute_error,mean_squared_error\n",
        "MSE = mean_squared_error(y_test,test_predictions)\n",
        "RMSE = np.sqrt(MSE)\n",
        "RMSE"
      ]
    },
    {
      "cell_type": "markdown",
      "metadata": {
        "id": "4jBmxqToc16U"
      },
      "source": [
        "\n",
        "-----\n",
        "\n",
        "## LassoCV Regression"
      ]
    },
    {
      "cell_type": "code",
      "execution_count": 10,
      "metadata": {
        "id": "bL8oxXRbc16U",
        "colab": {
          "base_uri": "https://localhost:8080/"
        },
        "outputId": "c1a02a8f-9b21-4846-a8fc-eb209c8a6c4a"
      },
      "outputs": [
        {
          "output_type": "execute_result",
          "data": {
            "text/plain": [
              "array([1.002651  , 0.        , 0.        , 0.        , 3.79745279,\n",
              "       0.        , 0.        , 0.        , 0.        , 0.        ,\n",
              "       0.        , 0.        , 0.        , 0.        , 0.        ,\n",
              "       0.        , 0.        , 0.        , 0.        ])"
            ]
          },
          "metadata": {},
          "execution_count": 10
        }
      ],
      "source": [
        "from sklearn.linear_model import LassoCV\n",
        "lasso_cv_model = LassoCV(eps=0.1,n_alphas=100,cv=5)\n",
        "lasso_cv_model.fit(X_train,y_train)\n",
        "lasso_cv_model.coef_"
      ]
    },
    {
      "cell_type": "code",
      "execution_count": 11,
      "metadata": {
        "id": "i-5oJlaBc16V",
        "colab": {
          "base_uri": "https://localhost:8080/"
        },
        "outputId": "b61e12d1-2ac5-46a6-bc65-c0ea8984d5ad"
      },
      "outputs": [
        {
          "output_type": "execute_result",
          "data": {
            "text/plain": [
              "1.1308001022762548"
            ]
          },
          "metadata": {},
          "execution_count": 11
        }
      ],
      "source": [
        "test_predictions = lasso_cv_model.predict(X_test)\n",
        "MSE = mean_squared_error(y_test,test_predictions)\n",
        "RMSE = np.sqrt(MSE)\n",
        "RMSE"
      ]
    },
    {
      "cell_type": "markdown",
      "metadata": {
        "id": "DHKoTjFOc16W"
      },
      "source": [
        "-----\n",
        "\n",
        "## Elastic Net\n",
        "\n",
        "Elastic Net combines the penalties of ridge regression and lasso in an attempt to get the best of both worlds!"
      ]
    },
    {
      "cell_type": "code",
      "execution_count": 12,
      "metadata": {
        "id": "2niK676gc16W",
        "colab": {
          "base_uri": "https://localhost:8080/"
        },
        "outputId": "7099b57a-31d2-41d7-9115-d6b8093df40e"
      },
      "outputs": [
        {
          "output_type": "execute_result",
          "data": {
            "text/plain": [
              "array([ 3.78993643,  0.89232919,  0.28765395, -1.01843566,  2.15516144,\n",
              "       -0.3567547 , -0.271502  ,  0.09741081,  0.        , -1.05563151,\n",
              "        0.2362506 ,  0.07980911,  1.26170778,  0.01464706,  0.00462336,\n",
              "       -0.39986069,  0.        ,  0.        , -0.05343757])"
            ]
          },
          "metadata": {},
          "execution_count": 12
        }
      ],
      "source": [
        "from sklearn.linear_model import ElasticNetCV\n",
        "elastic_model = ElasticNetCV(l1_ratio=[.1, .5, .7,.9, .95, .99, 1],tol=0.01)\n",
        "elastic_model.fit(X_train,y_train)\n",
        "elastic_model.coef_"
      ]
    },
    {
      "cell_type": "code",
      "execution_count": 13,
      "metadata": {
        "id": "QafGNwiuc16W",
        "colab": {
          "base_uri": "https://localhost:8080/"
        },
        "outputId": "ad52891f-c869-47d6-f1f1-df40562a9b89"
      },
      "outputs": [
        {
          "output_type": "execute_result",
          "data": {
            "text/plain": [
              "0.7485546215633726"
            ]
          },
          "metadata": {},
          "execution_count": 13
        }
      ],
      "source": [
        "test_predictions = elastic_model.predict(X_test)\n",
        "MSE = mean_squared_error(y_test,test_predictions)\n",
        "RMSE = np.sqrt(MSE)\n",
        "RMSE"
      ]
    }
  ],
  "metadata": {
    "anaconda-cloud": {},
    "kernelspec": {
      "display_name": "Python 3",
      "language": "python",
      "name": "python3"
    },
    "language_info": {
      "codemirror_mode": {
        "name": "ipython",
        "version": 3
      },
      "file_extension": ".py",
      "mimetype": "text/x-python",
      "name": "python",
      "nbconvert_exporter": "python",
      "pygments_lexer": "ipython3",
      "version": "3.7.6"
    },
    "colab": {
      "provenance": [],
      "collapsed_sections": [
        "ptScBeYGc16S"
      ]
    }
  },
  "nbformat": 4,
  "nbformat_minor": 0
}