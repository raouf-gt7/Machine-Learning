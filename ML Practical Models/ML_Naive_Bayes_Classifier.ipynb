{
  "nbformat": 4,
  "nbformat_minor": 0,
  "metadata": {
    "colab": {
      "provenance": []
    },
    "kernelspec": {
      "name": "python3",
      "display_name": "Python 3"
    }
  },
  "cells": [
    {
      "cell_type": "code",
      "metadata": {
        "id": "AYKtheIWJXxM"
      },
      "source": [
        "Consider the data about conditions for playing tennis given below import numpy as np\n",
        " import matplotlib.pyplot as plt\n",
        " %matplotlib inline"
      ],
      "execution_count": null,
      "outputs": []
    },
    {
      "cell_type": "markdown",
      "metadata": {
        "id": "OLAQwbwdRE88"
      },
      "source": [
        "**Exercise 1**"
      ]
    },
    {
      "cell_type": "markdown",
      "source": [
        "Consider the data about conditions for playing tennis given below:"
      ],
      "metadata": {
        "id": "KICrpUr6rc-n"
      }
    },
    {
      "cell_type": "code",
      "metadata": {
        "id": "rb54bdoNQ3aC"
      },
      "source": [
        "p_sunny_given_yes = 3/6\n",
        "p_hot_given_yes = 1/6\n",
        "p_normal_given_yes = 3/6\n",
        "p_yes = 6/10\n",
        "\n",
        "p_sunny_given_no = 1/4\n",
        "p_hot_given_no = 1/4\n",
        "p_normal_given_no = 2/4\n",
        "p_no = 4/10"
      ],
      "execution_count": null,
      "outputs": []
    },
    {
      "cell_type": "markdown",
      "source": [
        "Using Naive Bayes classifier, predict if one should play tennis on a Sunny, Hot with Normal humidity day. Note that since the data is discrete, you can use the frequentist statistics to compute the needed probabilities."
      ],
      "metadata": {
        "id": "ougyX3hnrheQ"
      }
    },
    {
      "cell_type": "markdown",
      "source": [
        "Since the goal is to classify a sunny, hot with normal humidity day as good day to play tennis or not, we first define two classes C1 and C2, corresponding to Play = Yes and Play = No, respectively. To classify the given day with attributes x, we need to compute p(C1|x) and p(C2|x)."
      ],
      "metadata": {
        "id": "Wpdi29vFrpaa"
      }
    },
    {
      "cell_type": "code",
      "metadata": {
        "id": "aeLnjaV-aO4c"
      },
      "source": [
        "p_sunny_hot_normal_given_yes = p_sunny_given_yes * p_hot_given_yes * p_normal_given_yes\n",
        "p_sunny_hot_normal_given_no = p_sunny_given_no * p_hot_given_no * p_normal_given_no"
      ],
      "execution_count": null,
      "outputs": []
    },
    {
      "cell_type": "code",
      "metadata": {
        "id": "zW3_uxWeaPda"
      },
      "source": [
        "p_yes_given_sunny_hot_normal = p_yes * p_sunny_hot_normal_given_yes\n",
        "p_no_given_sunny_hot_normal = p_no * p_sunny_hot_normal_given_no"
      ],
      "execution_count": null,
      "outputs": []
    },
    {
      "cell_type": "code",
      "metadata": {
        "colab": {
          "base_uri": "https://localhost:8080/"
        },
        "id": "bdlA528Qa4lb",
        "outputId": "e9bb0ce4-ddb0-45eb-b621-c004614dd486"
      },
      "source": [
        "print(\"Probability Hypothesis is Yes:\",p_yes_given_sunny_hot_normal)\n",
        "print(\"Probability Hypothesis is No:\",p_no_given_sunny_hot_normal)"
      ],
      "execution_count": null,
      "outputs": [
        {
          "output_type": "stream",
          "name": "stdout",
          "text": [
            "Probability Hypothesis is Yes: 0.024999999999999998\n",
            "Probability Hypothesis is No: 0.0125\n"
          ]
        }
      ]
    },
    {
      "cell_type": "markdown",
      "metadata": {
        "id": "sH3z69ufbSVA"
      },
      "source": [
        "**Exercise 2**"
      ]
    },
    {
      "cell_type": "code",
      "metadata": {
        "id": "X9m1tcGgbUQA"
      },
      "source": [
        "def Gaus(point,mean,variance):\n",
        "  return (np.exp((((point-mean)**2)*(-1))/2*variance)/np.sqrt(2*np.pi*variance))"
      ],
      "execution_count": null,
      "outputs": []
    },
    {
      "cell_type": "markdown",
      "source": [
        "Consider the data given below about the weight and height of different individuals:"
      ],
      "metadata": {
        "id": "pzguOPUisSel"
      }
    },
    {
      "cell_type": "code",
      "metadata": {
        "id": "A21mmEV9lfHs"
      },
      "source": [
        "male_height = np.array([165,162,180,173,170])\n",
        "male_weight = np.array([75,70,80,75,85])\n",
        "female_height = np.array([155,157,153,159])\n",
        "female_weight = np.array([65,60,63,72])"
      ],
      "execution_count": null,
      "outputs": []
    },
    {
      "cell_type": "markdown",
      "source": [
        "- Using Naive Bayes classifier, predict the gender of an individual with weight of 75 Kg and height 170 cm.\n",
        "- Note that since the data is continuous, you can use the Gaussian distribution N(x|μ, σ) for each feature"
      ],
      "metadata": {
        "id": "lPMMfG_qsmWv"
      }
    },
    {
      "cell_type": "code",
      "source": [
        "# Gaussian distribution N(x|μ, σ) for each feature\n",
        "Note that since the data is continuous, you can use the Gaussian distribution N(x|μ, σ) for each feature\n",
        "p_male = 5/9\n",
        "p_w75_given_male = Gaus(75,male_weight.mean(),male_weight.var())\n",
        "p_h170_given_male = Gaus(170,male_height.mean(),male_height.var())\n",
        "p_female = 4/9\n",
        "p_w75_given_female = Gaus(75,female_weight.mean(),female_weight.var())\n",
        "p_h170_given_female = Gaus(170,female_height.mean(),female_height.var())"
      ],
      "metadata": {
        "id": "Hkd4O5DZsvH0"
      },
      "execution_count": null,
      "outputs": []
    },
    {
      "cell_type": "code",
      "metadata": {
        "colab": {
          "base_uri": "https://localhost:8080/"
        },
        "id": "VNg0ds4Ao3MU",
        "outputId": "d28b4e57-f21a-4123-a9db-3791823cda19"
      },
      "source": [
        "p_male_given_w75_h170 = p_male * p_w75_given_male * p_h170_given_male\n",
        "p_female_given_w75_h170 = p_female * p_w75_given_female * p_h170_given_female\n",
        "print(\"Probability it's a male:\",p_male_given_w75_h170)\n",
        "print(\"Probability it's a female:\",p_female_given_w75_h170) #very small number that numpy rounds to 0"
      ],
      "execution_count": null,
      "outputs": [
        {
          "output_type": "stream",
          "name": "stdout",
          "text": [
            "Probability it's a male: 7.192838357178042e-26\n",
            "Probability it's a female: 0.0\n"
          ]
        }
      ]
    },
    {
      "cell_type": "code",
      "metadata": {
        "colab": {
          "base_uri": "https://localhost:8080/"
        },
        "id": "TBAU5eGVX0so",
        "outputId": "f670012c-a249-481b-c15b-9035e555897a"
      },
      "source": [
        "value = p_female_given_w75_h170 / p_male_given_w75_h170\n",
        "if value > 1:\n",
        "  print(\"Point belongs to --> Female class\") \n",
        "else:\n",
        "  print(\"Point belongs to --> Male class\")  "
      ],
      "execution_count": null,
      "outputs": [
        {
          "output_type": "stream",
          "name": "stdout",
          "text": [
            "Point belongs to --> Male class\n"
          ]
        }
      ]
    }
  ]
}