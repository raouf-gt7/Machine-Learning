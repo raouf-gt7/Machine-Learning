{
  "nbformat": 4,
  "nbformat_minor": 0,
  "metadata": {
    "colab": {
      "provenance": []
    },
    "kernelspec": {
      "name": "python3",
      "display_name": "Python 3"
    },
    "language_info": {
      "name": "python"
    }
  },
  "cells": [
    {
      "cell_type": "markdown",
      "source": [
        "# ML (Simple Linear Regression)"
      ],
      "metadata": {
        "id": "sgwOgHqTkhWl"
      }
    },
    {
      "cell_type": "markdown",
      "source": [
        "Salary Predictor using Simple linear Regression \n",
        "1. Import all the required libraries (ex. Numpy, pandas...etc.)\n",
        "2. Read the OLS dataset\n",
        "3. Produce a scatter-plot of the data\n",
        "4. Divide the dataset into training and testing data with an approximate ratio of 70/30 respectively\n",
        "5. Create a function that uses the train portion of the data to produce a program that predicts the\n",
        "Salary based on the Years of Experience\n",
        "6. Test the algorithm using the test portion of the data\n",
        "7. Bonus: What is an adequate performance measure for this model? → Implement it!\n",
        "\n",
        "\n"
      ],
      "metadata": {
        "id": "llGSiRafkgfc"
      }
    },
    {
      "cell_type": "code",
      "source": [
        "import numpy as np \n",
        "import pandas as pd \n",
        "import matplotlib.pyplot as plt\n",
        "import seaborn as sns\n",
        "from sklearn.model_selection import train_test_split"
      ],
      "metadata": {
        "id": "9ZZRPW2_m45i"
      },
      "execution_count": null,
      "outputs": []
    },
    {
      "cell_type": "code",
      "source": [
        "df = pd.read_csv(\"Salary_Data.csv\")\n",
        "df.head()"
      ],
      "metadata": {
        "colab": {
          "base_uri": "https://localhost:8080/",
          "height": 206
        },
        "id": "W5buscHsnVDV",
        "outputId": "78ecb71f-f5f0-42e2-80b6-4a45b65478f7"
      },
      "execution_count": null,
      "outputs": [
        {
          "output_type": "execute_result",
          "data": {
            "text/plain": [
              "   YearsExperience   Salary\n",
              "0              1.1  39343.0\n",
              "1              1.3  46205.0\n",
              "2              1.5  37731.0\n",
              "3              2.0  43525.0\n",
              "4              2.2  39891.0"
            ],
            "text/html": [
              "\n",
              "  <div id=\"df-fd64b7b7-9929-4712-b7ce-ec1b536c642d\">\n",
              "    <div class=\"colab-df-container\">\n",
              "      <div>\n",
              "<style scoped>\n",
              "    .dataframe tbody tr th:only-of-type {\n",
              "        vertical-align: middle;\n",
              "    }\n",
              "\n",
              "    .dataframe tbody tr th {\n",
              "        vertical-align: top;\n",
              "    }\n",
              "\n",
              "    .dataframe thead th {\n",
              "        text-align: right;\n",
              "    }\n",
              "</style>\n",
              "<table border=\"1\" class=\"dataframe\">\n",
              "  <thead>\n",
              "    <tr style=\"text-align: right;\">\n",
              "      <th></th>\n",
              "      <th>YearsExperience</th>\n",
              "      <th>Salary</th>\n",
              "    </tr>\n",
              "  </thead>\n",
              "  <tbody>\n",
              "    <tr>\n",
              "      <th>0</th>\n",
              "      <td>1.1</td>\n",
              "      <td>39343.0</td>\n",
              "    </tr>\n",
              "    <tr>\n",
              "      <th>1</th>\n",
              "      <td>1.3</td>\n",
              "      <td>46205.0</td>\n",
              "    </tr>\n",
              "    <tr>\n",
              "      <th>2</th>\n",
              "      <td>1.5</td>\n",
              "      <td>37731.0</td>\n",
              "    </tr>\n",
              "    <tr>\n",
              "      <th>3</th>\n",
              "      <td>2.0</td>\n",
              "      <td>43525.0</td>\n",
              "    </tr>\n",
              "    <tr>\n",
              "      <th>4</th>\n",
              "      <td>2.2</td>\n",
              "      <td>39891.0</td>\n",
              "    </tr>\n",
              "  </tbody>\n",
              "</table>\n",
              "</div>\n",
              "      <button class=\"colab-df-convert\" onclick=\"convertToInteractive('df-fd64b7b7-9929-4712-b7ce-ec1b536c642d')\"\n",
              "              title=\"Convert this dataframe to an interactive table.\"\n",
              "              style=\"display:none;\">\n",
              "        \n",
              "  <svg xmlns=\"http://www.w3.org/2000/svg\" height=\"24px\"viewBox=\"0 0 24 24\"\n",
              "       width=\"24px\">\n",
              "    <path d=\"M0 0h24v24H0V0z\" fill=\"none\"/>\n",
              "    <path d=\"M18.56 5.44l.94 2.06.94-2.06 2.06-.94-2.06-.94-.94-2.06-.94 2.06-2.06.94zm-11 1L8.5 8.5l.94-2.06 2.06-.94-2.06-.94L8.5 2.5l-.94 2.06-2.06.94zm10 10l.94 2.06.94-2.06 2.06-.94-2.06-.94-.94-2.06-.94 2.06-2.06.94z\"/><path d=\"M17.41 7.96l-1.37-1.37c-.4-.4-.92-.59-1.43-.59-.52 0-1.04.2-1.43.59L10.3 9.45l-7.72 7.72c-.78.78-.78 2.05 0 2.83L4 21.41c.39.39.9.59 1.41.59.51 0 1.02-.2 1.41-.59l7.78-7.78 2.81-2.81c.8-.78.8-2.07 0-2.86zM5.41 20L4 18.59l7.72-7.72 1.47 1.35L5.41 20z\"/>\n",
              "  </svg>\n",
              "      </button>\n",
              "      \n",
              "  <style>\n",
              "    .colab-df-container {\n",
              "      display:flex;\n",
              "      flex-wrap:wrap;\n",
              "      gap: 12px;\n",
              "    }\n",
              "\n",
              "    .colab-df-convert {\n",
              "      background-color: #E8F0FE;\n",
              "      border: none;\n",
              "      border-radius: 50%;\n",
              "      cursor: pointer;\n",
              "      display: none;\n",
              "      fill: #1967D2;\n",
              "      height: 32px;\n",
              "      padding: 0 0 0 0;\n",
              "      width: 32px;\n",
              "    }\n",
              "\n",
              "    .colab-df-convert:hover {\n",
              "      background-color: #E2EBFA;\n",
              "      box-shadow: 0px 1px 2px rgba(60, 64, 67, 0.3), 0px 1px 3px 1px rgba(60, 64, 67, 0.15);\n",
              "      fill: #174EA6;\n",
              "    }\n",
              "\n",
              "    [theme=dark] .colab-df-convert {\n",
              "      background-color: #3B4455;\n",
              "      fill: #D2E3FC;\n",
              "    }\n",
              "\n",
              "    [theme=dark] .colab-df-convert:hover {\n",
              "      background-color: #434B5C;\n",
              "      box-shadow: 0px 1px 3px 1px rgba(0, 0, 0, 0.15);\n",
              "      filter: drop-shadow(0px 1px 2px rgba(0, 0, 0, 0.3));\n",
              "      fill: #FFFFFF;\n",
              "    }\n",
              "  </style>\n",
              "\n",
              "      <script>\n",
              "        const buttonEl =\n",
              "          document.querySelector('#df-fd64b7b7-9929-4712-b7ce-ec1b536c642d button.colab-df-convert');\n",
              "        buttonEl.style.display =\n",
              "          google.colab.kernel.accessAllowed ? 'block' : 'none';\n",
              "\n",
              "        async function convertToInteractive(key) {\n",
              "          const element = document.querySelector('#df-fd64b7b7-9929-4712-b7ce-ec1b536c642d');\n",
              "          const dataTable =\n",
              "            await google.colab.kernel.invokeFunction('convertToInteractive',\n",
              "                                                     [key], {});\n",
              "          if (!dataTable) return;\n",
              "\n",
              "          const docLinkHtml = 'Like what you see? Visit the ' +\n",
              "            '<a target=\"_blank\" href=https://colab.research.google.com/notebooks/data_table.ipynb>data table notebook</a>'\n",
              "            + ' to learn more about interactive tables.';\n",
              "          element.innerHTML = '';\n",
              "          dataTable['output_type'] = 'display_data';\n",
              "          await google.colab.output.renderOutput(dataTable, element);\n",
              "          const docLink = document.createElement('div');\n",
              "          docLink.innerHTML = docLinkHtml;\n",
              "          element.appendChild(docLink);\n",
              "        }\n",
              "      </script>\n",
              "    </div>\n",
              "  </div>\n",
              "  "
            ]
          },
          "metadata": {},
          "execution_count": 3
        }
      ]
    },
    {
      "cell_type": "code",
      "source": [
        "plt.figure(figsize=(9,5))\n",
        "plt.scatter(df['YearsExperience'],df['Salary'])\n",
        "plt.title('YearsExperience vs Salary', fontsize=16)\n",
        "plt.xlabel('Years of Experience', fontsize=12)\n",
        "plt.ylabel('Salary', fontsize=12)\n",
        "plt.show()"
      ],
      "metadata": {
        "colab": {
          "base_uri": "https://localhost:8080/",
          "height": 355
        },
        "id": "e_gNAktYnZxa",
        "outputId": "672bbae7-9102-4201-f2b4-b1e558ca3a5b"
      },
      "execution_count": null,
      "outputs": [
        {
          "output_type": "display_data",
          "data": {
            "text/plain": [
              "<Figure size 648x360 with 1 Axes>"
            ],
            "image/png": "[encoded data removed]"
          },
          "metadata": {
            "needs_background": "light"
          }
        }
      ]
    },
    {
      "cell_type": "code",
      "source": [
        "X = df['Salary']\n",
        "y = df['YearsExperience']\n",
        "X_train, X_test, y_train, y_test = train_test_split(X, y, random_state=0, train_size = .7)"
      ],
      "metadata": {
        "id": "_Ifi7Ys3p6w3"
      },
      "execution_count": null,
      "outputs": []
    },
    {
      "cell_type": "code",
      "source": [
        "# Own predictive model based on OLS \n",
        "\n",
        "x_avg = X_train.sum()/X_train.count()\n",
        "y_avg = y_train.sum()/y_train.count()\n",
        "\n",
        "b1_num = 0\n",
        "b1_dem = 0\n",
        "\n",
        "for i in range(0, X_train.count()):\n",
        "  x_brac = X_train.iloc[i] - x_avg\n",
        "  y_brac = y_train.iloc[i] - y_avg \n",
        "  b1_num += x_brac * y_brac\n",
        "  b1_dem += (x_brac**2)\n",
        "\n",
        "b1 = b1_num / b1_dem\n",
        "b0 = y_avg - (b1*x_avg)"
      ],
      "metadata": {
        "id": "E3mQbA6Uq5N7"
      },
      "execution_count": null,
      "outputs": []
    },
    {
      "cell_type": "code",
      "source": [
        "def predict(x_value):\n",
        "  return b1*x_value + b0\n",
        "\n",
        "predictions = []\n",
        "for i in range (0, X_test.count()):\n",
        "  predictions += [predict(X_test.iloc[i])]\n",
        "\n",
        "print(y_test)"
      ],
      "metadata": {
        "colab": {
          "base_uri": "https://localhost:8080/"
        },
        "id": "uvYs_wtXtXVk",
        "outputId": "b4cca873-fecf-4a29-bd75-b78b1ba8b9ed"
      },
      "execution_count": null,
      "outputs": [
        {
          "output_type": "stream",
          "name": "stdout",
          "text": [
            "2      1.5\n",
            "28    10.3\n",
            "13     4.1\n",
            "10     3.9\n",
            "26     9.5\n",
            "24     8.7\n",
            "27     9.6\n",
            "11     4.0\n",
            "17     5.3\n",
            "Name: YearsExperience, dtype: float64\n"
          ]
        }
      ]
    },
    {
      "cell_type": "code",
      "source": [
        "predictions"
      ],
      "metadata": {
        "colab": {
          "base_uri": "https://localhost:8080/"
        },
        "id": "PiHIGAIJuVOD",
        "outputId": "adc0a427-0cfe-4571-c7f7-da5a1b079b90"
      },
      "execution_count": null,
      "outputs": [
        {
          "output_type": "execute_result",
          "data": {
            "text/plain": [
              "[1.3840450917620486,\n",
              " 9.907493226820716,\n",
              " 3.3321755124257058,\n",
              " 3.950039925428954,\n",
              " 9.361613994736047,\n",
              " 8.602698898562267,\n",
              " 8.925273051937271,\n",
              " 3.2026021867722623,\n",
              " 5.950523204942487]"
            ]
          },
          "metadata": {},
          "execution_count": 16
        }
      ]
    },
    {
      "cell_type": "markdown",
      "source": [
        "MSE "
      ],
      "metadata": {
        "id": "yFfm_DN4v3Oh"
      }
    },
    {
      "cell_type": "code",
      "source": [
        "from sklearn.metrics import mean_squared_error  \n",
        "# Given values  \n",
        "Y_act = y_test  # Y_true = Y (original values)  \n",
        "           \n",
        "# Calculation of Mean Squared Error (MSE)  \n",
        "print(\"Mean Square Error: \\n\")\n",
        "print(mean_squared_error(Y_act,predictions))"
      ],
      "metadata": {
        "colab": {
          "base_uri": "https://localhost:8080/"
        },
        "id": "t3PFOqs7vXfa",
        "outputId": "21fff89c-c71b-4b97-881b-a11448fb02ad"
      },
      "execution_count": null,
      "outputs": [
        {
          "output_type": "stream",
          "name": "stdout",
          "text": [
            "Mean Square Error: \n",
            "\n",
            "0.255829322615192\n"
          ]
        }
      ]
    },
    {
      "cell_type": "markdown",
      "source": [
        "RMSE"
      ],
      "metadata": {
        "id": "cmnYYcPiwGYk"
      }
    },
    {
      "cell_type": "code",
      "source": [
        "import math  \n",
        "        \n",
        "MSE = np.square(np.subtract(y_test,predictions)).mean()   \n",
        "       \n",
        "rsme = math.sqrt(MSE)  \n",
        "print(\"Root Mean Square Error:\\n\")  \n",
        "print(rsme)  "
      ],
      "metadata": {
        "colab": {
          "base_uri": "https://localhost:8080/"
        },
        "id": "-Au6kcSnwEFC",
        "outputId": "fa97e9a2-e78e-4dc6-94b4-502e3bb56a9b"
      },
      "execution_count": null,
      "outputs": [
        {
          "output_type": "stream",
          "name": "stdout",
          "text": [
            "Root Mean Square Error:\n",
            "\n",
            "0.5057957321045641\n"
          ]
        }
      ]
    }
  ]
}