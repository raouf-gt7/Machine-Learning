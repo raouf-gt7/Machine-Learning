{
  "nbformat": 4,
  "nbformat_minor": 0,
  "metadata": {
    "colab": {
      "provenance": []
    },
    "kernelspec": {
      "name": "python3",
      "display_name": "Python 3"
    },
    "language_info": {
      "name": "python"
    }
  },
  "cells": [
    {
      "cell_type": "markdown",
      "source": [
        "#Machine Learning (Polynomial Regression): \n",
        "Abdelraouf Khorshed (5000267)\n",
        "- Produce a polynomial regression model with degree (d)\n",
        "- Try different higher order models (max d = 10)\n",
        "- Choose optimal model, compare performance measure outputs to simple linear regression & ridge regression with CROSS VALIDATION. \n",
        "- Evalutaion metrics should be used ('discussed in tutorial 3')\n",
        "- Predict sales for the following expidenture: 149k on TV, 22k on Radio, and 12k on Newspaper Ads"
      ],
      "metadata": {
        "id": "-sjjPcWpDcS5"
      }
    },
    {
      "cell_type": "markdown",
      "source": [
        "Polynomial regression is a basic linear regression with a higher order degree. This higher-order degree allows our equation to fit advanced relationships, like curves and sudden jumps. As the order increases in polynomial regression, we increase the chances of overfitting and creating weak models."
      ],
      "metadata": {
        "id": "OhFzO_STIRxI"
      }
    },
    {
      "cell_type": "code",
      "execution_count": null,
      "metadata": {
        "colab": {
          "base_uri": "https://localhost:8080/",
          "height": 206
        },
        "id": "uHGNaCWhC-iz",
        "outputId": "d434b214-847e-47b8-94b0-f937472df1ec"
      },
      "outputs": [
        {
          "output_type": "execute_result",
          "data": {
            "text/plain": [
              "      TV  radio  newspaper  sales\n",
              "0  230.1   37.8       69.2   22.1\n",
              "1   44.5   39.3       45.1   10.4\n",
              "2   17.2   45.9       69.3    9.3\n",
              "3  151.5   41.3       58.5   18.5\n",
              "4  180.8   10.8       58.4   12.9"
            ],
            "text/html": [
              "\n",
              "  <div id=\"df-bee8f337-d921-4aef-85e5-6974aa50b5cf\">\n",
              "    <div class=\"colab-df-container\">\n",
              "      <div>\n",
              "<style scoped>\n",
              "    .dataframe tbody tr th:only-of-type {\n",
              "        vertical-align: middle;\n",
              "    }\n",
              "\n",
              "    .dataframe tbody tr th {\n",
              "        vertical-align: top;\n",
              "    }\n",
              "\n",
              "    .dataframe thead th {\n",
              "        text-align: right;\n",
              "    }\n",
              "</style>\n",
              "<table border=\"1\" class=\"dataframe\">\n",
              "  <thead>\n",
              "    <tr style=\"text-align: right;\">\n",
              "      <th></th>\n",
              "      <th>TV</th>\n",
              "      <th>radio</th>\n",
              "      <th>newspaper</th>\n",
              "      <th>sales</th>\n",
              "    </tr>\n",
              "  </thead>\n",
              "  <tbody>\n",
              "    <tr>\n",
              "      <th>0</th>\n",
              "      <td>230.1</td>\n",
              "      <td>37.8</td>\n",
              "      <td>69.2</td>\n",
              "      <td>22.1</td>\n",
              "    </tr>\n",
              "    <tr>\n",
              "      <th>1</th>\n",
              "      <td>44.5</td>\n",
              "      <td>39.3</td>\n",
              "      <td>45.1</td>\n",
              "      <td>10.4</td>\n",
              "    </tr>\n",
              "    <tr>\n",
              "      <th>2</th>\n",
              "      <td>17.2</td>\n",
              "      <td>45.9</td>\n",
              "      <td>69.3</td>\n",
              "      <td>9.3</td>\n",
              "    </tr>\n",
              "    <tr>\n",
              "      <th>3</th>\n",
              "      <td>151.5</td>\n",
              "      <td>41.3</td>\n",
              "      <td>58.5</td>\n",
              "      <td>18.5</td>\n",
              "    </tr>\n",
              "    <tr>\n",
              "      <th>4</th>\n",
              "      <td>180.8</td>\n",
              "      <td>10.8</td>\n",
              "      <td>58.4</td>\n",
              "      <td>12.9</td>\n",
              "    </tr>\n",
              "  </tbody>\n",
              "</table>\n",
              "</div>\n",
              "      <button class=\"colab-df-convert\" onclick=\"convertToInteractive('df-bee8f337-d921-4aef-85e5-6974aa50b5cf')\"\n",
              "              title=\"Convert this dataframe to an interactive table.\"\n",
              "              style=\"display:none;\">\n",
              "        \n",
              "  <svg xmlns=\"http://www.w3.org/2000/svg\" height=\"24px\"viewBox=\"0 0 24 24\"\n",
              "       width=\"24px\">\n",
              "    <path d=\"M0 0h24v24H0V0z\" fill=\"none\"/>\n",
              "    <path d=\"M18.56 5.44l.94 2.06.94-2.06 2.06-.94-2.06-.94-.94-2.06-.94 2.06-2.06.94zm-11 1L8.5 8.5l.94-2.06 2.06-.94-2.06-.94L8.5 2.5l-.94 2.06-2.06.94zm10 10l.94 2.06.94-2.06 2.06-.94-2.06-.94-.94-2.06-.94 2.06-2.06.94z\"/><path d=\"M17.41 7.96l-1.37-1.37c-.4-.4-.92-.59-1.43-.59-.52 0-1.04.2-1.43.59L10.3 9.45l-7.72 7.72c-.78.78-.78 2.05 0 2.83L4 21.41c.39.39.9.59 1.41.59.51 0 1.02-.2 1.41-.59l7.78-7.78 2.81-2.81c.8-.78.8-2.07 0-2.86zM5.41 20L4 18.59l7.72-7.72 1.47 1.35L5.41 20z\"/>\n",
              "  </svg>\n",
              "      </button>\n",
              "      \n",
              "  <style>\n",
              "    .colab-df-container {\n",
              "      display:flex;\n",
              "      flex-wrap:wrap;\n",
              "      gap: 12px;\n",
              "    }\n",
              "\n",
              "    .colab-df-convert {\n",
              "      background-color: #E8F0FE;\n",
              "      border: none;\n",
              "      border-radius: 50%;\n",
              "      cursor: pointer;\n",
              "      display: none;\n",
              "      fill: #1967D2;\n",
              "      height: 32px;\n",
              "      padding: 0 0 0 0;\n",
              "      width: 32px;\n",
              "    }\n",
              "\n",
              "    .colab-df-convert:hover {\n",
              "      background-color: #E2EBFA;\n",
              "      box-shadow: 0px 1px 2px rgba(60, 64, 67, 0.3), 0px 1px 3px 1px rgba(60, 64, 67, 0.15);\n",
              "      fill: #174EA6;\n",
              "    }\n",
              "\n",
              "    [theme=dark] .colab-df-convert {\n",
              "      background-color: #3B4455;\n",
              "      fill: #D2E3FC;\n",
              "    }\n",
              "\n",
              "    [theme=dark] .colab-df-convert:hover {\n",
              "      background-color: #434B5C;\n",
              "      box-shadow: 0px 1px 3px 1px rgba(0, 0, 0, 0.15);\n",
              "      filter: drop-shadow(0px 1px 2px rgba(0, 0, 0, 0.3));\n",
              "      fill: #FFFFFF;\n",
              "    }\n",
              "  </style>\n",
              "\n",
              "      <script>\n",
              "        const buttonEl =\n",
              "          document.querySelector('#df-bee8f337-d921-4aef-85e5-6974aa50b5cf button.colab-df-convert');\n",
              "        buttonEl.style.display =\n",
              "          google.colab.kernel.accessAllowed ? 'block' : 'none';\n",
              "\n",
              "        async function convertToInteractive(key) {\n",
              "          const element = document.querySelector('#df-bee8f337-d921-4aef-85e5-6974aa50b5cf');\n",
              "          const dataTable =\n",
              "            await google.colab.kernel.invokeFunction('convertToInteractive',\n",
              "                                                     [key], {});\n",
              "          if (!dataTable) return;\n",
              "\n",
              "          const docLinkHtml = 'Like what you see? Visit the ' +\n",
              "            '<a target=\"_blank\" href=https://colab.research.google.com/notebooks/data_table.ipynb>data table notebook</a>'\n",
              "            + ' to learn more about interactive tables.';\n",
              "          element.innerHTML = '';\n",
              "          dataTable['output_type'] = 'display_data';\n",
              "          await google.colab.output.renderOutput(dataTable, element);\n",
              "          const docLink = document.createElement('div');\n",
              "          docLink.innerHTML = docLinkHtml;\n",
              "          element.appendChild(docLink);\n",
              "        }\n",
              "      </script>\n",
              "    </div>\n",
              "  </div>\n",
              "  "
            ]
          },
          "metadata": {},
          "execution_count": 51
        }
      ],
      "source": [
        "import numpy as np\n",
        "import pandas as pd\n",
        "import matplotlib.pyplot as plt \n",
        "from sklearn.preprocessing import PolynomialFeatures\n",
        "from sklearn.linear_model import LinearRegression\n",
        "from sklearn.model_selection import train_test_split\n",
        "from sklearn.metrics import mean_squared_error\n",
        "from sklearn.model_selection import cross_val_score\n",
        "\n",
        "df = pd.read_csv(\"Advertising.csv\")\n",
        "df.head()"
      ]
    },
    {
      "cell_type": "code",
      "source": [
        "# seperate out our x and y values\n",
        "x_values = df[['TV','radio', 'newspaper']].values\n",
        "y_values = df['sales'].values"
      ],
      "metadata": {
        "id": "D38vdgPCHgKl"
      },
      "execution_count": null,
      "outputs": []
    },
    {
      "cell_type": "markdown",
      "source": [
        "We're going to create a loop and create a model for each degree and calculate the error and compare all the model errors. "
      ],
      "metadata": {
        "id": "ef06xI5Jc21u"
      }
    },
    {
      "cell_type": "code",
      "source": [
        "number_degrees = [1 ,2 ,3 ,4 ,5 ,6 ,7 ,8, 9, 10] # array of the range of degrees.\n",
        "plt_mean_squared_error = [] #empty array for rmse\n",
        "\n",
        "for degree in number_degrees:\n",
        "\n",
        "# Polynomial features are those features created by raising existing features to an exponent.\n",
        "# Generate a new feature matrix consisting of all polynomial combinations of the features with degree less than or equal to the specified degree.\n",
        "# For example, if an input sample is two dimensional and of the form [a, b], the degree-2 polynomial features are [1, a, b, a^2, ab, b^2].\n",
        "   poly_model = PolynomialFeatures(degree=degree)\n",
        "  \n",
        "# transform out polynomial features\n",
        "#The fit method is calculating the mean and variance of each of the features present in our data.\n",
        "# The transform method is transforming all the features using the respective mean and variance.\n",
        "# fir_transform is basically .fit().transform()\n",
        "   initial_poly_x_values = poly_model.fit_transform(x_values)\n",
        "\n",
        "# We use linear regression as a base. \n",
        "# Polynomial regression is a linear model, that’s why we import LinearRegression(), we use PolynomialFeatures\n",
        "# just to transform the features to the needed format. \n",
        "   intial_poly_model = LinearRegression()\n",
        "   intial_poly_model.fit(initial_poly_x_values, y_values)\n",
        "   y_pred = intial_poly_model.predict(initial_poly_x_values)\n",
        "  \n",
        "# calculate the rsme and put it in the rmse array.\n",
        "   plt_mean_squared_error.append(mean_squared_error(y_values, y_pred, squared=False))\n",
        "\n",
        "#Visualize the rsme for each degree accordingly \n",
        "plt.figure(figsize=(6,6))\n",
        "x = np.arange(0, 11, 1)\n",
        "plt.xticks(x)\n",
        "plt.scatter(number_degrees,plt_mean_squared_error, color=\"green\")\n",
        "plt.plot(number_degrees,plt_mean_squared_error, color=\"red\") "
      ],
      "metadata": {
        "colab": {
          "base_uri": "https://localhost:8080/",
          "height": 392
        },
        "id": "zdyU54dFJRpK",
        "outputId": "9aeacec7-1b20-4841-c779-48a5ad7e7c7e"
      },
      "execution_count": null,
      "outputs": [
        {
          "output_type": "execute_result",
          "data": {
            "text/plain": [
              "[<matplotlib.lines.Line2D at 0x7fe0ac0bbf10>]"
            ]
          },
          "metadata": {},
          "execution_count": 53
        },
        {
          "output_type": "display_data",
          "data": {
            "text/plain": [
              "<Figure size 432x432 with 1 Axes>"
            ],
            "image/png": "[encoded data removed]"
          },
          "metadata": {
            "needs_background": "light"
          }
        }
      ]
    },
    {
      "cell_type": "markdown",
      "source": [
        "As we can see the degree with the lowest error is degree = 4.We create a new polynomial model with degree 4 and use cross validation to compare it to Linear and Ridge Regression.\n",
        "\n"
      ],
      "metadata": {
        "id": "EJtPXIskcxEd"
      }
    },
    {
      "cell_type": "code",
      "source": [
        "new_x = np.array([[149.0, 22.0, 12.0]]) #we use this format because predict & fit needs to be given a 2D array.\n",
        "#new_x.reshape(1, -1)"
      ],
      "metadata": {
        "id": "6l1j1IjQ4Yph"
      },
      "execution_count": null,
      "outputs": []
    },
    {
      "cell_type": "markdown",
      "source": [
        "Polynomial Regression Model:"
      ],
      "metadata": {
        "id": "A7IMWQWjko0_"
      }
    },
    {
      "cell_type": "code",
      "source": [
        "poly_model_d4 = PolynomialFeatures(degree=4)\n",
        "poly_x_values_d4 = poly_model_d4.fit_transform(x_values)\n",
        "\n",
        "poly_model_d4 = LinearRegression()\n",
        "# scores obtained from cross_val_score regressor are by default 'r2'.\n",
        "# we change the behavior by specifying the scoring parameter and change the sign since it report in a negative value.\n",
        "print(\"Average polynomial regression RMSE score after cross validation, k=10: \") \n",
        "print(-1*(np.mean(cross_val_score(poly_model_d4, poly_x_values_d4, y_values, scoring='neg_mean_squared_error', cv=10))))\n"
      ],
      "metadata": {
        "id": "I4nIAPZzSsps",
        "colab": {
          "base_uri": "https://localhost:8080/"
        },
        "outputId": "a1ec5456-cea3-43c1-9f8d-e634cb1a2238"
      },
      "execution_count": null,
      "outputs": [
        {
          "output_type": "stream",
          "name": "stdout",
          "text": [
            "Average polynomial regression RMSE score after cross validation, k=10: \n",
            "5.13914679104716\n"
          ]
        }
      ]
    },
    {
      "cell_type": "code",
      "source": [
        "cv_rmse = []\n",
        "\n",
        "for d in range (1,11):\n",
        "  poly_temp = PolynomialFeatures(degree=d)\n",
        "  poly_x_values_temp = poly_temp.fit_transform(x_values)\n",
        "\n",
        "  poly_temp2 = LinearRegression()\n",
        "  cv_rmse.append(-1*(np.mean(cross_val_score(poly_temp2, poly_x_values_temp, y_values, scoring='neg_mean_squared_error', cv=10))))\n",
        "\n",
        "print(\"Minimum RMSE: \", min(cv_rmse))\n",
        "print(\"Optimal polynomial degree:\", cv_rmse.index(min(cv_rmse)) + 1)\n",
        "  #print(-1*(np.mean(cross_val_score(poly_temp2, poly_x_values_temp, y_values, scoring='neg_mean_squared_error', cv=5))))"
      ],
      "metadata": {
        "id": "11NIWrwsLEiO",
        "colab": {
          "base_uri": "https://localhost:8080/"
        },
        "outputId": "f057e25e-bd2c-41b5-eef5-724fdae872af"
      },
      "execution_count": null,
      "outputs": [
        {
          "output_type": "stream",
          "name": "stdout",
          "text": [
            "Minimum RMSE:  0.3190220306219115\n",
            "Optimal polynomial degree: 3\n"
          ]
        }
      ]
    },
    {
      "cell_type": "markdown",
      "source": [
        "Despite the fact the degree = 4 gave us the lowest RSME, the model seems to overfit. We used reguralization in the form of cross validation to counter overfitting which therefore gave us the optimal degree = 3 as it gave a better average rmse score. "
      ],
      "metadata": {
        "id": "8h-XTxuowVsl"
      }
    },
    {
      "cell_type": "code",
      "source": [
        "poly_model_d3 = PolynomialFeatures(degree=3)\n",
        "poly_x_values_d3 = poly_model_d3.fit_transform(x_values)\n",
        "\n",
        "optimal_model_d3 = LinearRegression()\n",
        "optimal_model_d3.fit(poly_x_values_d3, y_values)\n",
        "print(\"Average polynomial regression RMSE score after cross validation, k=10: \")\n",
        "print(-1*(np.mean(cross_val_score(optimal_model_d3, poly_x_values_d3, y_values, scoring='neg_mean_squared_error', cv=10))))"
      ],
      "metadata": {
        "id": "vklUtY70wM3p",
        "colab": {
          "base_uri": "https://localhost:8080/"
        },
        "outputId": "b8f8461e-380e-47ca-cc84-72e8b1561770"
      },
      "execution_count": null,
      "outputs": [
        {
          "output_type": "stream",
          "name": "stdout",
          "text": [
            "Average polynomial regression RMSE score after cross validation, k=10: \n",
            "0.3190220306219115\n"
          ]
        }
      ]
    },
    {
      "cell_type": "code",
      "source": [
        "#Prediction:\n",
        "poly_new_x = poly_model_d3.fit_transform(new_x)\n",
        "poly_new_y_pred = optimal_model_d3.predict(poly_new_x)\n",
        "\n",
        "print(\"For 149k on TV, 22k on Radio, and 12k on Newspaper Ads: \")\n",
        "print(\"Polynomial sales prediction:\", poly_new_y_pred)"
      ],
      "metadata": {
        "id": "_G7sU5XF5SuP",
        "colab": {
          "base_uri": "https://localhost:8080/"
        },
        "outputId": "e51ade5c-2cda-48c8-f5e0-97c22706c312"
      },
      "execution_count": null,
      "outputs": [
        {
          "output_type": "stream",
          "name": "stdout",
          "text": [
            "For 149k on TV, 22k on Radio, and 12k on Newspaper Ads: \n",
            "Polynomial sales prediction: [14.64501014]\n"
          ]
        }
      ]
    },
    {
      "cell_type": "markdown",
      "source": [
        "Linear Regression Model:"
      ],
      "metadata": {
        "id": "wJXRpgf0kmsE"
      }
    },
    {
      "cell_type": "code",
      "source": [
        "simple_linear_model = LinearRegression()\n",
        "simple_linear_model.fit(x_values, y_values)\n",
        "print(\"Average simple linear regression RMSE score after cross validation, k=10: \")\n",
        "print(-1*(np.mean(cross_val_score(simple_linear_model, x_values, y_values, scoring='neg_mean_squared_error', cv=10))))"
      ],
      "metadata": {
        "id": "IpIrVBmYgL_q",
        "colab": {
          "base_uri": "https://localhost:8080/"
        },
        "outputId": "94de3ac5-6f2e-4650-bbf3-2dcb5e4026b9"
      },
      "execution_count": null,
      "outputs": [
        {
          "output_type": "stream",
          "name": "stdout",
          "text": [
            "Average simple linear regression RMSE score after cross validation, k=10: \n",
            "3.0599676181185145\n"
          ]
        }
      ]
    },
    {
      "cell_type": "code",
      "source": [
        "#Prediction: \n",
        "linear_new_y_pred = simple_linear_model.predict(new_x)\n",
        "print(\"For 149k on TV, 22k on Radio, and 12k on Newspaper Ads: \")\n",
        "print(\"Linear sales prediction:\", linear_new_y_pred)"
      ],
      "metadata": {
        "id": "ZQ1cBgaP8ERv",
        "colab": {
          "base_uri": "https://localhost:8080/"
        },
        "outputId": "9395b16c-ee9c-4299-df54-4edc9075338e"
      },
      "execution_count": null,
      "outputs": [
        {
          "output_type": "stream",
          "name": "stdout",
          "text": [
            "For 149k on TV, 22k on Radio, and 12k on Newspaper Ads: \n",
            "Linear sales prediction: [13.893032]\n"
          ]
        }
      ]
    },
    {
      "cell_type": "markdown",
      "source": [
        "Ridge Regression Model:"
      ],
      "metadata": {
        "id": "4y-3AlIIksQN"
      }
    },
    {
      "cell_type": "code",
      "source": [
        "from sklearn.linear_model import RidgeCV\n",
        "from sklearn.linear_model import Ridge\n",
        "from sklearn.preprocessing import StandardScaler\n",
        "\n",
        "# Because in linear regression the value of the coefficients is partially determined by the scale of the feature,\n",
        "# and in regularized models all coefficients are summed together, we must make sure to standardize\n",
        "# the feature prior to training.\n",
        "scaler = StandardScaler()\n",
        "X_std = scaler.fit_transform(x_values)\n",
        "\n",
        "# Create ridge regression with three possible alpha values\n",
        "ridge_regr = RidgeCV(alphas=[0.1, 1.0, 10.0])\n",
        "\n",
        "# We fit ridge regression with the ideal value for alpha\n",
        "ridge_model = ridge_regr.fit(X_std, y_values)\n",
        "\n",
        "print(\"Average ridge regression RMSE score after cross validation, k=10: \")\n",
        "print(-1*(np.mean(cross_val_score(ridge_model, x_values, y_values, scoring='neg_mean_squared_error', cv=10))))"
      ],
      "metadata": {
        "id": "EbgW7ZFskYTA",
        "colab": {
          "base_uri": "https://localhost:8080/"
        },
        "outputId": "44d048a9-e8be-4c3f-eb67-fbc038c3430f"
      },
      "execution_count": null,
      "outputs": [
        {
          "output_type": "stream",
          "name": "stdout",
          "text": [
            "Average ridge regression RMSE score after cross validation, k=10: \n",
            "3.0598669303928028\n"
          ]
        }
      ]
    },
    {
      "cell_type": "code",
      "source": [
        "#Prediction :\n",
        "new_x_std = scaler.fit_transform(new_x) # We need to standardize the new features\n",
        "ridge_new_y_pred = ridge_model.predict(new_x_std)\n",
        "print(\"For 149k on TV, 22k on Radio, and 12k on Newspaper Ads: \")\n",
        "print(\"Ridge sales prediction:\", ridge_new_y_pred)"
      ],
      "metadata": {
        "id": "_MwenQ3K897u",
        "colab": {
          "base_uri": "https://localhost:8080/"
        },
        "outputId": "20df700a-69ca-4829-cbb8-b8a5fd9e7a71"
      },
      "execution_count": null,
      "outputs": [
        {
          "output_type": "stream",
          "name": "stdout",
          "text": [
            "For 149k on TV, 22k on Radio, and 12k on Newspaper Ads: \n",
            "Ridge sales prediction: [14.0225]\n"
          ]
        }
      ]
    }
  ]
}