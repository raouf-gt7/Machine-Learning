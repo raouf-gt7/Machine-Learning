{
  "nbformat": 4,
  "nbformat_minor": 0,
  "metadata": {
    "colab": {
      "provenance": [],
      "collapsed_sections": [
        "urLJVn__lY7P"
      ]
    },
    "kernelspec": {
      "name": "python3",
      "display_name": "Python 3"
    },
    "language_info": {
      "name": "python"
    }
  },
  "cells": [
    {
      "cell_type": "markdown",
      "source": [
        "#ML (Least Squares Classification)"
      ],
      "metadata": {
        "id": "89B-LG8UkaqD"
      }
    },
    {
      "cell_type": "markdown",
      "source": [
        "We are required to design a multiple least squares-based classification algorithm that can recognize scanned\n",
        "images of the 10 digits (0 to 9)\n",
        "> **Important Project Notes:**\n",
        "- 1. If the inverse of ˜XT˜X results in a singular matrix, use the pseudoinverse function.\n",
        "- 2. We are allowed to use numpy and its\n",
        "functions for transposing, inverting and multiplying matrices.\n"
      ],
      "metadata": {
        "id": "b_Ox3ONFkegX"
      }
    },
    {
      "cell_type": "markdown",
      "source": [
        "Team members:\n",
        "1. AbdelRaouf Khorshed 5000267"
      ],
      "metadata": {
        "id": "cAjCObLy40Zu"
      }
    },
    {
      "cell_type": "markdown",
      "source": [
        "###Importing Libraries 📚"
      ],
      "metadata": {
        "id": "urLJVn__lY7P"
      }
    },
    {
      "cell_type": "code",
      "source": [
        "!pip install patool"
      ],
      "metadata": {
        "colab": {
          "base_uri": "https://localhost:8080/"
        },
        "id": "NrwmCO9sjclv",
        "outputId": "37ec4aaa-acb0-4945-e1ff-5aa702bb66ca"
      },
      "execution_count": null,
      "outputs": [
        {
          "output_type": "stream",
          "name": "stdout",
          "text": [
            "Looking in indexes: https://pypi.org/simple, https://us-python.pkg.dev/colab-wheels/public/simple/\n",
            "Collecting patool\n",
            "  Downloading patool-1.12-py2.py3-none-any.whl (77 kB)\n",
            "\u001b[K     |████████████████████████████████| 77 kB 3.3 MB/s \n",
            "\u001b[?25hInstalling collected packages: patool\n",
            "Successfully installed patool-1.12\n"
          ]
        }
      ]
    },
    {
      "cell_type": "code",
      "execution_count": null,
      "metadata": {
        "colab": {
          "base_uri": "https://localhost:8080/",
          "height": 216
        },
        "id": "UQlda9R6iho8",
        "outputId": "633d014b-0e5d-4335-859a-76ff7467b4a3"
      },
      "outputs": [
        {
          "output_type": "stream",
          "name": "stdout",
          "text": [
            "patool: Extracting /content/Data.zip ...\n",
            "patool: running /usr/bin/7z x -o./Unpack_cvotyo3j -- /content/Data.zip\n",
            "patool: ... /content/Data.zip extracted to `Data'.\n"
          ]
        },
        {
          "output_type": "execute_result",
          "data": {
            "text/plain": [
              "'Data'"
            ],
            "application/vnd.google.colaboratory.intrinsic+json": {
              "type": "string"
            }
          },
          "metadata": {},
          "execution_count": 2
        }
      ],
      "source": [
        "import patoolib\n",
        "import pandas as pd\n",
        "import numpy as np\n",
        "from PIL import Image #Importing/exporting images\n",
        "patoolib.extract_archive('/content/Data.zip')"
      ]
    },
    {
      "cell_type": "markdown",
      "source": [
        "###Project Code <>💻"
      ],
      "metadata": {
        "id": "YSs0Kq36of7J"
      }
    },
    {
      "cell_type": "markdown",
      "source": [
        "Concept Understanding\n",
        "- The least-squares method for classification is based on linearly separating 2 or more classes.\n",
        "- The least-squares method (LSM) is a statistical procedure to find the best fit for a set of data points by minimizing the sum of the offsets or residuals of points from the plotted curve (linear). \n",
        "- The Train folder contains 240 images for each digit—there are 10 digits (0–9), so 2400 in total and 200 test images (20 images for each digit).\n",
        "- “Train/Test\n",
        "Labels.txt” includes the labels of the correspodning images in order."
      ],
      "metadata": {
        "id": "wLdx8eZxolE0"
      }
    },
    {
      "cell_type": "code",
      "source": [
        "width, height = Image.open('/content/Data/Train/1.jpg').size\n",
        "print(\"Pixel size of each image:\", width*height)"
      ],
      "metadata": {
        "colab": {
          "base_uri": "https://localhost:8080/"
        },
        "id": "RHrWdZrlokni",
        "outputId": "17aa3196-9440-46ed-c038-53df70023567"
      },
      "execution_count": null,
      "outputs": [
        {
          "output_type": "stream",
          "name": "stdout",
          "text": [
            "Pixel size of each image: 784\n"
          ]
        }
      ]
    },
    {
      "cell_type": "markdown",
      "source": [
        " We’re going to flatten the image to be just one big array, so the dimension of each image is going to be (1, 784) but LSM requires an extra dimension that’s in form of an extra column of ones therefore we will add an extra column."
      ],
      "metadata": {
        "id": "eKNrGN2rzxFM"
      }
    },
    {
      "cell_type": "code",
      "source": [
        "images = np.zeros([2400,785]) #2400 train images"
      ],
      "metadata": {
        "id": "usCK6WRmzud1"
      },
      "execution_count": null,
      "outputs": []
    },
    {
      "cell_type": "markdown",
      "source": [
        "We're going to create a function which takes one training image at a time, flattens it, adds a 1 to it, and puts it in the final array (X)."
      ],
      "metadata": {
        "id": "m19tMQ6m0a60"
      }
    },
    {
      "cell_type": "code",
      "source": [
        "#Each image's path is the same just ends with [Image number].jpg\n",
        "#So we are able to loop through all the images.\n",
        "def getX_tilde():\n",
        "    path = \"/content/Data/Train/\" \n",
        "    X = np.zeros([2400, 785])\n",
        "    for i in range(1, 2400): #Loop through all the images\n",
        "        new_path = path + str(i) + \".jpg\"\n",
        "        image = Image.open(new_path) #Open the corresponding image\n",
        "        flattened_image = np.append(np.asarray(image).flatten(order='C'), 1) #take the image array and flatten in row-major (2D --> 1D) and add the flattened image and the extra 1\n",
        "        X[i-1] =  flattened_image\n",
        "        \n",
        "    return X"
      ],
      "metadata": {
        "id": "Oc1dBaPg0BZF"
      },
      "execution_count": null,
      "outputs": []
    },
    {
      "cell_type": "markdown",
      "source": [
        "We're going to create another function to calculate the first part of the LSM formula: _((X_tilde.transpose)(X_tilde))^-1_, we're going to call it 'getFunction'."
      ],
      "metadata": {
        "id": "YpDrp18L8q-c"
      }
    },
    {
      "cell_type": "code",
      "source": [
        "def getFunction(X_tilde):\n",
        "    X_tilde_transpose = X_tilde.transpose()\n",
        "    function_bracket = X_tilde_transpose.dot(X_tilde)\n",
        "    inverse = np.linalg.pinv(function_bracket) \n",
        "    function = inverse.dot(X_tilde_transpose)\n",
        "\n",
        "    return function"
      ],
      "metadata": {
        "id": "p0GbfcPE9Avz"
      },
      "execution_count": null,
      "outputs": []
    },
    {
      "cell_type": "markdown",
      "source": [
        "If the determinant of the matrix is zero it will not have an inverse and your inv function will not work. This usually happens if your matrix is singular. But pinv will. This is because pinv returns the inverse of your matrix when it is available and the pseudo inverse when it isn't."
      ],
      "metadata": {
        "id": "lTI69rhbRS8z"
      }
    },
    {
      "cell_type": "markdown",
      "source": [
        "Finally we're going to create another function which retreives W_tilde, first we determine t which is a matrix with all elements being -1 except the 240 indices which correspond to the wanted number. Then we multiple the function and t ti give us W_tilde"
      ],
      "metadata": {
        "id": "XV8yRuYJ7gvY"
      }
    },
    {
      "cell_type": "code",
      "source": [
        "def getW_tilde(function, num):\n",
        "    t = np.zeros([2400]) #vector of zeros\n",
        "    for i in range (2400): \n",
        "      t[i] = -1 #assign all values to -1 (opposing class)\n",
        "    for i in range (240):\n",
        "        t[(num*240)+i] = 1 # loop through correct class by starting with our wanted digit and assign value to 1. \n",
        "\n",
        "    #Now that we've determined t, we can calculate W_tilde\n",
        "    W_tilde = function.dot(t)\n",
        "    return W_tilde"
      ],
      "metadata": {
        "id": "Z0NOkIfq5leo"
      },
      "execution_count": null,
      "outputs": []
    },
    {
      "cell_type": "markdown",
      "source": [
        "We can finally create the test function, where we take each test image and get its corresponding weight vector. We output the highest value in the weight vector (highest probability) and output its corresponding class (0-9)."
      ],
      "metadata": {
        "id": "kBiY-NX_pnbE"
      }
    },
    {
      "cell_type": "code",
      "source": [
        "def test(test_path):\n",
        "    function = getFunction(getX_tilde())\n",
        "    predictedLabels = np.zeros([200])\n",
        "    \n",
        "    #We want to compare every test image with the \n",
        "    for i in range(1, 200): #Loop through all the test images \n",
        "        Y = np.zeros([10]) #reset Y after each loop\n",
        "        new_path = test_path + str(i) + \".jpg\"\n",
        "        image = Image.open(new_path)\n",
        "        flattened_image = np.append(np.asarray(image).flatten(order='C'), 1)\n",
        "\n",
        "        for digit in range(10): #Loop for each digit\n",
        "            current_W = getW_tilde(function, digit); #We get the weight tilde for each class\n",
        "            current_W_transpose = current_W.transpose()\n",
        "            Y[digit] = current_W_transpose.dot(flattened_image) #Add each y value to the y vector\n",
        "\n",
        "        max_W = np.where(Y == np.amax(Y)) #gives us the highest y value & its corresponding class\n",
        "        predictedLabels[i-1] = max_W[0][0] ##[0][0] because only 1 value should be outputed\n",
        "    return predictedLabels"
      ],
      "metadata": {
        "id": "e2bRE9SkRcCY"
      },
      "execution_count": null,
      "outputs": []
    },
    {
      "cell_type": "markdown",
      "source": [
        "These are the actual test labels"
      ],
      "metadata": {
        "id": "uIjy6acXp_Iw"
      }
    },
    {
      "cell_type": "code",
      "source": [
        "originalLabels = np.genfromtxt(\"/content/Data/Test/Test Labels.txt\", delimiter = \",\")\n",
        "originalLabels"
      ],
      "metadata": {
        "colab": {
          "base_uri": "https://localhost:8080/"
        },
        "id": "_3Ad8Aqlb3G_",
        "outputId": "0a0f9899-b7d9-4477-88b8-e3878415a78f"
      },
      "execution_count": null,
      "outputs": [
        {
          "output_type": "execute_result",
          "data": {
            "text/plain": [
              "array([0., 0., 0., 0., 0., 0., 0., 0., 0., 0., 0., 0., 0., 0., 0., 0., 0.,\n",
              "       0., 0., 0., 1., 1., 1., 1., 1., 1., 1., 1., 1., 1., 1., 1., 1., 1.,\n",
              "       1., 1., 1., 1., 1., 1., 2., 2., 2., 2., 2., 2., 2., 2., 2., 2., 2.,\n",
              "       2., 2., 2., 2., 2., 2., 2., 2., 2., 3., 3., 3., 3., 3., 3., 3., 3.,\n",
              "       3., 3., 3., 3., 3., 3., 3., 3., 3., 3., 3., 3., 4., 4., 4., 4., 4.,\n",
              "       4., 4., 4., 4., 4., 4., 4., 4., 4., 4., 4., 4., 4., 4., 4., 5., 5.,\n",
              "       5., 5., 5., 5., 5., 5., 5., 5., 5., 5., 5., 5., 5., 5., 5., 5., 5.,\n",
              "       5., 6., 6., 6., 6., 6., 6., 6., 6., 6., 6., 6., 6., 6., 6., 6., 6.,\n",
              "       6., 6., 6., 6., 7., 7., 7., 7., 7., 7., 7., 7., 7., 7., 7., 7., 7.,\n",
              "       7., 7., 7., 7., 7., 7., 7., 8., 8., 8., 8., 8., 8., 8., 8., 8., 8.,\n",
              "       8., 8., 8., 8., 8., 8., 8., 8., 8., 8., 9., 9., 9., 9., 9., 9., 9.,\n",
              "       9., 9., 9., 9., 9., 9., 9., 9., 9., 9., 9., 9., 9.])"
            ]
          },
          "metadata": {},
          "execution_count": 68
        }
      ]
    },
    {
      "cell_type": "markdown",
      "source": [
        "These are the predicted test labels that we got from our classifier"
      ],
      "metadata": {
        "id": "qMwMuEnLqE7T"
      }
    },
    {
      "cell_type": "code",
      "source": [
        "predictedLabels = test(\"/content/Data/Test/\")\n",
        "predictedLabels"
      ],
      "metadata": {
        "colab": {
          "base_uri": "https://localhost:8080/"
        },
        "id": "PlR94A-sfEg3",
        "outputId": "420e539c-e509-42a3-bfac-e3f2b26e7bb4"
      },
      "execution_count": null,
      "outputs": [
        {
          "output_type": "execute_result",
          "data": {
            "text/plain": [
              "array([0., 0., 0., 0., 0., 0., 0., 0., 0., 0., 0., 0., 0., 0., 0., 0., 0.,\n",
              "       0., 6., 0., 1., 1., 1., 1., 1., 1., 1., 1., 1., 1., 1., 1., 1., 1.,\n",
              "       1., 1., 1., 1., 1., 1., 2., 1., 2., 1., 2., 2., 0., 4., 3., 2., 3.,\n",
              "       2., 1., 5., 2., 2., 4., 2., 2., 2., 3., 3., 3., 3., 5., 3., 3., 3.,\n",
              "       3., 3., 3., 3., 3., 3., 3., 3., 3., 3., 8., 8., 4., 4., 4., 4., 4.,\n",
              "       4., 4., 4., 4., 5., 4., 4., 7., 4., 4., 4., 4., 4., 4., 9., 8., 5.,\n",
              "       5., 3., 5., 5., 5., 5., 5., 5., 9., 8., 6., 5., 5., 5., 9., 5., 5.,\n",
              "       5., 6., 6., 6., 6., 6., 6., 6., 6., 6., 6., 6., 6., 6., 6., 6., 6.,\n",
              "       6., 6., 6., 6., 7., 7., 7., 7., 7., 7., 7., 7., 7., 9., 7., 9., 2.,\n",
              "       7., 9., 7., 7., 7., 7., 3., 8., 5., 8., 9., 5., 8., 8., 8., 8., 8.,\n",
              "       8., 8., 8., 2., 8., 8., 8., 8., 8., 5., 9., 7., 9., 7., 7., 9., 3.,\n",
              "       5., 9., 9., 4., 9., 9., 9., 7., 9., 9., 0., 9., 0.])"
            ]
          },
          "metadata": {},
          "execution_count": 69
        }
      ]
    },
    {
      "cell_type": "markdown",
      "source": [
        "####Confusion Matrix \n"
      ],
      "metadata": {
        "id": "1DRX-t7ecTOn"
      }
    },
    {
      "cell_type": "markdown",
      "source": [
        "We're going to create a function to help us visualize the confusion matrix, it will help us determine how good our classifier is performing. We will take the actual label and the predicted label in order to compare them."
      ],
      "metadata": {
        "id": "WF8wxYQZqKcM"
      }
    },
    {
      "cell_type": "code",
      "source": [
        "def confusionMatrix(original, result):\n",
        "    matrix = np.zeros([10, 10])\n",
        "    for i in range(len(original)): #Loop through the whole set\n",
        "        matrix[int(original[i])][int(result[i])] += 1 #Add 1 everytime both actual and predicted results match\n",
        "        \n",
        "    return matrix.astype(int) "
      ],
      "metadata": {
        "id": "UboqNh3Ucbl8"
      },
      "execution_count": null,
      "outputs": []
    },
    {
      "cell_type": "code",
      "source": [
        "resultLabels = test('/content/Data/Test/')\n",
        "confusion_matrix = confusionMatrix(originalLabels, predictedLabels)\n",
        "confusion_matrix"
      ],
      "metadata": {
        "colab": {
          "base_uri": "https://localhost:8080/"
        },
        "id": "R9vQu7SXceLA",
        "outputId": "c1268e3a-3336-40b7-b90e-d86e61375801"
      },
      "execution_count": null,
      "outputs": [
        {
          "output_type": "execute_result",
          "data": {
            "text/plain": [
              "array([[19,  0,  0,  0,  0,  0,  1,  0,  0,  0],\n",
              "       [ 0, 20,  0,  0,  0,  0,  0,  0,  0,  0],\n",
              "       [ 1,  3, 11,  2,  2,  1,  0,  0,  0,  0],\n",
              "       [ 0,  0,  0, 17,  0,  1,  0,  0,  2,  0],\n",
              "       [ 0,  0,  0,  0, 17,  1,  0,  1,  0,  1],\n",
              "       [ 0,  0,  0,  1,  0, 14,  1,  0,  2,  2],\n",
              "       [ 0,  0,  0,  0,  0,  0, 20,  0,  0,  0],\n",
              "       [ 0,  0,  1,  1,  0,  0,  0, 15,  0,  3],\n",
              "       [ 0,  0,  1,  0,  0,  3,  0,  0, 15,  1],\n",
              "       [ 2,  0,  0,  1,  1,  1,  0,  4,  0, 11]])"
            ]
          },
          "metadata": {},
          "execution_count": 71
        }
      ]
    },
    {
      "cell_type": "code",
      "source": [
        "import matplotlib.pyplot as plt\n",
        "\n",
        "class_names = [\"0\",\"1\",\"2\",\"3\",\"4\",\"5\",\"6\",\"7\",\"8\",\"9\"]\n",
        "fig, ax = plt.subplots()\n",
        "im = ax.imshow(confusion_matrix, interpolation='nearest', cmap=plt.cm.Oranges)\n",
        "ax.set(xticks=np.arange(confusion_matrix.shape[1]),\n",
        "        yticks=np.arange(confusion_matrix.shape[0]),\n",
        "        xticklabels=class_names, yticklabels=class_names, title='Confusion matrix', ylabel='Original label', xlabel='Predicted label')\n",
        "\n",
        "thresh = confusion_matrix.max() / 2\n",
        "for i in range(confusion_matrix.shape[0]):\n",
        "    for j in range(confusion_matrix.shape[1]):\n",
        "        ax.text(j, i, format(confusion_matrix[i, j], 'd'), ha=\"center\", va=\"center\",\n",
        "                 color=\"white\" if confusion_matrix[i, j] > thresh else \"black\")\n",
        "\n",
        "plt.show()"
      ],
      "metadata": {
        "colab": {
          "base_uri": "https://localhost:8080/",
          "height": 295
        },
        "id": "xUWBRRik_31p",
        "outputId": "c9e7da04-66ea-4b22-f1e4-08498410b872"
      },
      "execution_count": null,
      "outputs": [
        {
          "output_type": "display_data",
          "data": {
            "text/plain": [
              "<Figure size 432x288 with 1 Axes>"
            ],
            "image/png": "[encoded data removed]"
          },
          "metadata": {
            "needs_background": "light"
          }
        }
      ]
    }
  ]
}