{
  "nbformat": 4,
  "nbformat_minor": 0,
  "metadata": {
    "colab": {
      "provenance": []
    },
    "kernelspec": {
      "name": "python3",
      "display_name": "Python 3"
    },
    "language_info": {
      "name": "python"
    }
  },
  "cells": [
    {
      "cell_type": "markdown",
      "source": [
        "#ML (Fisher’s Linear Discriminant Classification)\n",
        "\n"
      ],
      "metadata": {
        "id": "kdbqtuz5g8py"
      }
    },
    {
      "cell_type": "markdown",
      "source": [
        "Team members:\n",
        "- AbdelRaouf Khorshed #5000267"
      ],
      "metadata": {
        "id": "8rnitB8FIWiC"
      }
    },
    {
      "cell_type": "markdown",
      "source": [
        "We are required to design a Fisher’s Linear Discriminant classification algorithm that can recognize\n",
        "scanned images of the 10 digits (0 to 9). This classifier works by trying to find the best decision boundry given that it would maximize separation between classes means while minimizing the within-class variance.\n",
        "\n",
        "> **Important Project Notes:**\n",
        "- For Fischer’s, you will assign an image to a digit based on the **minimum** product (not maximum as in least squares classifier).\n",
        "- We will examine Fisher’s Linear Discriminant twice. Once without including a bias term in each discriminant function and another using a bias term for each discriminant function.\n",
        "- If the inverse of Sw^-1 results in a singular matrix, use the pseudoinverse function.\n",
        "- Our target values should be 0 and 1.\n",
        "- For each time, we will produce a confusion matrix as well as an accuracy degree for our classifier. \n"
      ],
      "metadata": {
        "id": "BkFE32TihAbJ"
      }
    },
    {
      "cell_type": "markdown",
      "source": [
        "###Importing Libraries 📚"
      ],
      "metadata": {
        "id": "KqlzrN9Ep3KG"
      }
    },
    {
      "cell_type": "code",
      "source": [
        "import pandas as pd\n",
        "import numpy as np\n",
        "import matplotlib.pyplot as plt\n",
        "from sklearn.metrics import accuracy_score\n",
        "from sklearn.metrics import confusion_matrix"
      ],
      "metadata": {
        "id": "4UbqWWNrpr4t"
      },
      "execution_count": null,
      "outputs": []
    },
    {
      "cell_type": "code",
      "source": [
        "!pip install patool"
      ],
      "metadata": {
        "id": "A4y3ksJMqCb_",
        "colab": {
          "base_uri": "https://localhost:8080/"
        },
        "outputId": "8f3bb9df-c31a-4775-bba3-8aaf596fa26b"
      },
      "execution_count": null,
      "outputs": [
        {
          "output_type": "stream",
          "name": "stdout",
          "text": [
            "Looking in indexes: https://pypi.org/simple, https://us-python.pkg.dev/colab-wheels/public/simple/\n",
            "Requirement already satisfied: patool in /usr/local/lib/python3.8/dist-packages (1.12)\n"
          ]
        }
      ]
    },
    {
      "cell_type": "code",
      "source": [
        "import patoolib\n",
        "from PIL import Image #Importing/exporting images\n",
        "patoolib.extract_archive('/content/Data.zip')"
      ],
      "metadata": {
        "id": "9BBP98LDqsy9",
        "colab": {
          "base_uri": "https://localhost:8080/",
          "height": 89
        },
        "outputId": "8139cefd-738d-4c23-c6fc-6ab21304edf4"
      },
      "execution_count": null,
      "outputs": [
        {
          "output_type": "stream",
          "name": "stdout",
          "text": [
            "patool: Extracting /content/Data.zip ...\n",
            "patool: running /usr/bin/7z x -o./Unpack_l4ya5bqh -- /content/Data.zip\n",
            "patool: ... /content/Data.zip extracted to `Data1' (local file exists).\n"
          ]
        },
        {
          "output_type": "execute_result",
          "data": {
            "text/plain": [
              "'Data1'"
            ],
            "application/vnd.google.colaboratory.intrinsic+json": {
              "type": "string"
            }
          },
          "metadata": {},
          "execution_count": 22
        }
      ]
    },
    {
      "cell_type": "markdown",
      "source": [
        "###Project Code <>💻"
      ],
      "metadata": {
        "id": "7EAovOyQGy1w"
      }
    },
    {
      "cell_type": "markdown",
      "source": [
        "Concept understanding:\n",
        "- Basically in FLDA we want to calculate within-class and between class scatter matrices (Sw, Sb). \n",
        "- First we calculate the mean for each class, which has N observations.\n",
        "- Then we'll calculate the within-class and between-class scatter matrix.\n",
        "- Calculate Weight matrices and Bias for all classes \n",
        "- We formulate Y from the calculates parameters for every image we want to classify, every Y is a 1D array having length = number of possible classes. The prediction is simply the argmin of Y (index of smallest Y)"
      ],
      "metadata": {
        "id": "21iMTdoimmxC"
      }
    },
    {
      "cell_type": "code",
      "source": [
        "width, height = Image.open('/content/Data/Train/1.jpg').size\n",
        "print(\"Pixel size of each image:\", width*height)"
      ],
      "metadata": {
        "colab": {
          "base_uri": "https://localhost:8080/"
        },
        "id": "czCZUSmkmeyI",
        "outputId": "50e65126-68cb-42e5-dd81-abaca0ca3b39"
      },
      "execution_count": null,
      "outputs": [
        {
          "output_type": "stream",
          "name": "stdout",
          "text": [
            "Pixel size of each image: 784\n"
          ]
        }
      ]
    },
    {
      "cell_type": "markdown",
      "source": [
        "Now that we've derived that the **number of features we have is 784**. We’re going to flatten the image to be just one big array, so the dimension of each image is going to be (1, 784) and in total all the flattened images with result in an array of (2400, 784) since we have 2400 images. "
      ],
      "metadata": {
        "id": "juqXSf86mulL"
      }
    },
    {
      "cell_type": "code",
      "source": [
        "training_path = \"/content/Data/Train/\" \n",
        "training_images = np.zeros([2400, 784])\n",
        "for i in range(1, 2400): #Loop through all the images\n",
        "  new_path = training_path + str(i) + \".jpg\"\n",
        "  image = Image.open(new_path) #Open the corresponding image\n",
        "  flattened_image = np.asarray(image).flatten(order='C') #take the image array and flatten in row-major (2D --> 1D) and add the flattened image and the extra 1\n",
        "  training_images[i-1] =  flattened_image"
      ],
      "metadata": {
        "id": "ulJIj9_1GyYL"
      },
      "execution_count": null,
      "outputs": []
    },
    {
      "cell_type": "markdown",
      "source": [
        "We're going to create a `classes` function to split the respective classes  into arrays.  "
      ],
      "metadata": {
        "id": "nmWpsnFgnLwS"
      }
    },
    {
      "cell_type": "code",
      "source": [
        "def classes (training_images):\n",
        "  # We split each image into its class\n",
        "\ttarget_classes  = [training_images[i : i+240] for i in range(0, 2400, 240)]\n",
        "\treturn target_classes"
      ],
      "metadata": {
        "id": "-X_KXIXvHclh"
      },
      "execution_count": null,
      "outputs": []
    },
    {
      "cell_type": "markdown",
      "source": [
        "We're going to create a `class_mean` function to retrieve the mean of the targeted class we want meaning we retrieve *m1* and *m2*.\n",
        "\n"
      ],
      "metadata": {
        "id": "nqlOeIxUnH2J"
      }
    },
    {
      "cell_type": "code",
      "source": [
        "def class_mean(list):\n",
        "    mean = np.round((np.sum(list, axis = 0, keepdims = True))/(len(list)),decimals=8)\n",
        "    return mean"
      ],
      "metadata": {
        "id": "as6hpI7RHzjl"
      },
      "execution_count": null,
      "outputs": []
    },
    {
      "cell_type": "markdown",
      "source": [
        "We have a total of 2,400 images in our training set, therefore there are 240 images per class. Four our testing set we have a total of 200 images, therefore 20 images per class. "
      ],
      "metadata": {
        "id": "EeHe8Y1znXzD"
      }
    },
    {
      "cell_type": "markdown",
      "source": [
        "Initialization"
      ],
      "metadata": {
        "id": "df5DFCLzmJCD"
      }
    },
    {
      "cell_type": "code",
      "source": [
        "W0_All = []\n",
        "W1_All = []\n",
        "S1 = np.zeros((784,784))\n",
        "S2 = np.zeros((784,784))\n",
        "\n",
        "data = classes(training_images)"
      ],
      "metadata": {
        "id": "fqdgl-M-annW"
      },
      "execution_count": null,
      "outputs": []
    },
    {
      "cell_type": "markdown",
      "source": [
        "- SW, the within-class **covariance** matrix equation is as below xn are the data points, m1 is the **mean** of class 1 and m2 is the **mean** of class 2 (all other classes combined) \n",
        "> ![Equation.png](data:image/png;base64,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)"
      ],
      "metadata": {
        "id": "f_iK3Eqpm_2_"
      }
    },
    {
      "cell_type": "markdown",
      "source": [
        "- The weights vector, w, which is orthogonal to the decision boundy and w0 (the bias) are equal to:\n",
        "> ![Equation 2.png](data:image/png;base64,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)"
      ],
      "metadata": {
        "id": "kTByF85q6_m2"
      }
    },
    {
      "cell_type": "markdown",
      "source": [
        "Function:\n",
        "- C1 is the currently targetted class\n",
        "- C2 are all the other classes that are not C1\n",
        "- M1 & M2 are C1's & C2's mean respectively.\n"
      ],
      "metadata": {
        "id": "KAeTvD7M6JtM"
      }
    },
    {
      "cell_type": "code",
      "source": [
        "for i in range(10):\n",
        "\n",
        "    C1 = data[i]   \n",
        "    M1 = class_mean(C1)\n",
        "\n",
        "    C2 = [value for index,value in enumerate(data) if index!= i]\n",
        "    C2 = np.array(C2).reshape(2160,784)\n",
        "    M2 = class_mean(C2)\n",
        "\n",
        "    S1 = S1 + np.dot((np.subtract(C1, M1)).T.reshape(784,240),\n",
        "                     np.subtract(C1, M1).reshape(240,784))\n",
        "    \n",
        "    S2 = S2 + np.dot((np.subtract(C2, M2)).T.reshape(784,2160),\n",
        "                     np.subtract(C2,M2).reshape(2160,784))\n",
        "\n",
        "    # Now that we've retrieved the necessary parameters we can perform the following calculations\n",
        "    Sw = S1 + S2\n",
        "    Sw_inv = np.linalg.pinv(Sw)\n",
        "\n",
        "    W1 = np.dot(Sw_inv,(np.subtract(M2,M1).T))\n",
        "    W1_All.append(W1)\n",
        "\n",
        "    W0 = -0.5 * np.dot(sum(M1, M2),np.array(W1))\n",
        "    W0_All.append(W0)"
      ],
      "metadata": {
        "id": "AKhFIJGQarW1"
      },
      "execution_count": null,
      "outputs": []
    },
    {
      "cell_type": "markdown",
      "source": [
        "Now that we're done with the training phase, we're going to perform the testing."
      ],
      "metadata": {
        "id": "I879FTV57QIr"
      }
    },
    {
      "cell_type": "code",
      "source": [
        "testing_path = \"/content/Data/Test/\" \n",
        "testing_images = np.ones([200, 784])\n",
        "for i in range(1, 200): #Loop through all the images\n",
        "  new_path = testing_path + str(i) + \".jpg\"\n",
        "  image = Image.open(new_path) #Open the corresponding image\n",
        "  flattened_image = np.asarray(image).flatten(order='C') #take the image array and flatten in row-major (2D --> 1D) and add the flattened image and the extra 1\n",
        "  testing_images[i-1] = (flattened_image)"
      ],
      "metadata": {
        "id": "io4-osxQdip7"
      },
      "execution_count": null,
      "outputs": []
    },
    {
      "cell_type": "markdown",
      "source": [
        "We would calculate Y for every image we want to classify, every Y is a 1D array having length = number of possible classes. The prediction is simply the np.amin of Y (index of smallest Y) with and without the bias term. Then we calculate their respective accuracy scores. "
      ],
      "metadata": {
        "id": "LOZiTj9uELX5"
      }
    },
    {
      "cell_type": "code",
      "source": [
        "training_label_file_path = 'Test Labels.txt'\n",
        "predictedLabels = np.zeros([200])\n",
        "predictedLabels_bias = np.zeros([200])\n",
        "testing_labels = np.loadtxt(testing_path+training_label_file_path)\n",
        "\n",
        "for i in range(len(testing_labels)):\n",
        "    Y_bias = np.zeros([10]) # reset Y after every loop \n",
        "    Y = np.zeros([10])\n",
        "    for j in range(10):\n",
        "        Y_bias[j] = (np.dot(W1_All[j].T,testing_images[i])) + W0_All[j]\n",
        "        Y[j] = (np.dot(W1_All[j].T,testing_images[i]))\n",
        "\n",
        "    min_W_bias = np.where(Y_bias == np.amin(Y_bias))\n",
        "    predictedLabels_bias[i] = min_W_bias[0][0]\n",
        "    min_W = np.where(Y == np.amin(Y))\n",
        "    predictedLabels[i] = min_W[0][0]    \n",
        "\n",
        "print('Accuracy with Bias =', round((accuracy_score(predictedLabels_bias,testing_labels)*100),0))\n",
        "print('Accuracy without Bias =', round((accuracy_score(predictedLabels,testing_labels)*100),0))"
      ],
      "metadata": {
        "colab": {
          "base_uri": "https://localhost:8080/"
        },
        "id": "L0CBr3CedsSw",
        "outputId": "083444d5-984d-4cf6-d956-b0195afc29b5"
      },
      "execution_count": null,
      "outputs": [
        {
          "output_type": "stream",
          "name": "stdout",
          "text": [
            "Accuracy with Bias = 82.0\n",
            "Accuracy without Bias = 66.0\n"
          ]
        }
      ]
    },
    {
      "cell_type": "markdown",
      "source": [
        "As we can see the accuracy without bias (**66%**) is much lower than the accuracy with bias(**82%**)."
      ],
      "metadata": {
        "id": "bREBEvMl6nJf"
      }
    },
    {
      "cell_type": "markdown",
      "source": [
        "These are the actual test labels, we're going to compare them to the predicted ones we got for bias and without bias."
      ],
      "metadata": {
        "id": "-a-z2X7B6fzL"
      }
    },
    {
      "cell_type": "code",
      "source": [
        "originalLabels = np.genfromtxt(\"/content/Data/Test/Test Labels.txt\", delimiter = \",\")\n",
        "originalLabels"
      ],
      "metadata": {
        "colab": {
          "base_uri": "https://localhost:8080/"
        },
        "id": "6ALYLM-td0xg",
        "outputId": "f50f3db8-e3cb-4740-cdd9-ecb829348360"
      },
      "execution_count": null,
      "outputs": [
        {
          "output_type": "execute_result",
          "data": {
            "text/plain": [
              "array([0., 0., 0., 0., 0., 0., 0., 0., 0., 0., 0., 0., 0., 0., 0., 0., 0.,\n",
              "       0., 0., 0., 1., 1., 1., 1., 1., 1., 1., 1., 1., 1., 1., 1., 1., 1.,\n",
              "       1., 1., 1., 1., 1., 1., 2., 2., 2., 2., 2., 2., 2., 2., 2., 2., 2.,\n",
              "       2., 2., 2., 2., 2., 2., 2., 2., 2., 3., 3., 3., 3., 3., 3., 3., 3.,\n",
              "       3., 3., 3., 3., 3., 3., 3., 3., 3., 3., 3., 3., 4., 4., 4., 4., 4.,\n",
              "       4., 4., 4., 4., 4., 4., 4., 4., 4., 4., 4., 4., 4., 4., 4., 5., 5.,\n",
              "       5., 5., 5., 5., 5., 5., 5., 5., 5., 5., 5., 5., 5., 5., 5., 5., 5.,\n",
              "       5., 6., 6., 6., 6., 6., 6., 6., 6., 6., 6., 6., 6., 6., 6., 6., 6.,\n",
              "       6., 6., 6., 6., 7., 7., 7., 7., 7., 7., 7., 7., 7., 7., 7., 7., 7.,\n",
              "       7., 7., 7., 7., 7., 7., 7., 8., 8., 8., 8., 8., 8., 8., 8., 8., 8.,\n",
              "       8., 8., 8., 8., 8., 8., 8., 8., 8., 8., 9., 9., 9., 9., 9., 9., 9.,\n",
              "       9., 9., 9., 9., 9., 9., 9., 9., 9., 9., 9., 9., 9.])"
            ]
          },
          "metadata": {},
          "execution_count": 31
        }
      ]
    },
    {
      "cell_type": "markdown",
      "source": [
        "###Confusion Matrices "
      ],
      "metadata": {
        "id": "5ksDBKYgekRu"
      }
    },
    {
      "cell_type": "code",
      "source": [
        "def confusionMatrix(original, result):\n",
        "    matrix = np.zeros([10, 10])\n",
        "    for i in range(len(original)): #Loop through the whole set\n",
        "        matrix[int(original[i])][int(result[i])] += 1 #Add 1 everytime both actual and predicted results match\n",
        "        \n",
        "    return matrix.astype(int) "
      ],
      "metadata": {
        "id": "AXqKNJnVdmW0"
      },
      "execution_count": null,
      "outputs": []
    },
    {
      "cell_type": "code",
      "source": [
        "confusion_matrix_bias = confusionMatrix(originalLabels, predictedLabels_bias)\n",
        "confusion_matrix_bias"
      ],
      "metadata": {
        "colab": {
          "base_uri": "https://localhost:8080/"
        },
        "id": "J1vbI5j22r6c",
        "outputId": "4496e226-72b0-4381-9241-acbe8a37904e"
      },
      "execution_count": null,
      "outputs": [
        {
          "output_type": "execute_result",
          "data": {
            "text/plain": [
              "array([[20,  0,  0,  0,  0,  0,  0,  0,  0,  0],\n",
              "       [ 0, 20,  0,  0,  0,  0,  0,  0,  0,  0],\n",
              "       [ 2,  3, 11,  2,  1,  1,  0,  0,  0,  0],\n",
              "       [ 0,  0,  0, 17,  0,  1,  0,  0,  2,  0],\n",
              "       [ 0,  0,  0,  0, 18,  1,  0,  0,  1,  0],\n",
              "       [ 0,  0,  0,  2,  0, 15,  1,  0,  2,  0],\n",
              "       [ 0,  0,  0,  0,  0,  0, 20,  0,  0,  0],\n",
              "       [ 0,  0,  0,  1,  0,  0,  0, 16,  0,  3],\n",
              "       [ 0,  0,  1,  0,  0,  3,  0,  0, 15,  1],\n",
              "       [ 2,  0,  0,  0,  1,  2,  0,  3,  0, 12]])"
            ]
          },
          "metadata": {},
          "execution_count": 33
        }
      ]
    },
    {
      "cell_type": "code",
      "source": [
        "confusion_matrix = confusionMatrix(originalLabels, predictedLabels)\n",
        "confusion_matrix"
      ],
      "metadata": {
        "colab": {
          "base_uri": "https://localhost:8080/"
        },
        "id": "JoeBeWDBeQiI",
        "outputId": "d1e3f94c-a30c-4545-a722-a7f0bd76384d"
      },
      "execution_count": null,
      "outputs": [
        {
          "output_type": "execute_result",
          "data": {
            "text/plain": [
              "array([[20,  0,  0,  0,  0,  0,  0,  0,  0,  0],\n",
              "       [ 0, 20,  0,  0,  0,  0,  0,  0,  0,  0],\n",
              "       [ 7,  2,  9,  1,  0,  1,  0,  0,  0,  0],\n",
              "       [ 1,  0,  1, 18,  0,  0,  0,  0,  0,  0],\n",
              "       [ 1,  0,  1,  4, 13,  1,  0,  0,  0,  0],\n",
              "       [ 7,  0,  0,  5,  0,  7,  1,  0,  0,  0],\n",
              "       [ 2,  0,  1,  0,  0,  0, 17,  0,  0,  0],\n",
              "       [ 5,  2,  2,  1,  0,  0,  0, 10,  0,  0],\n",
              "       [ 1,  0,  4,  4,  0,  1,  0,  0, 10,  0],\n",
              "       [ 4,  0,  3,  3,  2,  0,  0,  1,  0,  7]])"
            ]
          },
          "metadata": {},
          "execution_count": 34
        }
      ]
    },
    {
      "cell_type": "code",
      "source": [
        "class_names = [\"0\",\"1\",\"2\",\"3\",\"4\",\"5\",\"6\",\"7\",\"8\",\"9\"]\n",
        "fig, ax = plt.subplots()\n",
        "im = ax.imshow(confusion_matrix_bias, interpolation='nearest', cmap=plt.cm.Oranges)\n",
        "ax.set(xticks=np.arange(confusion_matrix_bias.shape[1]),\n",
        "        yticks=np.arange(confusion_matrix_bias.shape[0]),\n",
        "        xticklabels=class_names, yticklabels=class_names, title='With Bias Confusion matrix', ylabel='Original label', xlabel='Predicted label')\n",
        "\n",
        "thresh = confusion_matrix_bias.max() / 2\n",
        "for i in range(confusion_matrix_bias.shape[0]):\n",
        "    for j in range(confusion_matrix_bias.shape[1]):\n",
        "        ax.text(j, i, format(confusion_matrix_bias[i, j], 'd'), ha=\"center\", va=\"center\",\n",
        "                 color=\"white\" if confusion_matrix_bias[i, j] > thresh else \"black\")\n",
        "\n",
        "print(\"With Bias: \")\n",
        "plt.show()"
      ],
      "metadata": {
        "colab": {
          "base_uri": "https://localhost:8080/",
          "height": 313
        },
        "id": "iTcrVb7J5z3O",
        "outputId": "a5fb101b-b0d5-4132-86ba-f90bd71c80a3"
      },
      "execution_count": null,
      "outputs": [
        {
          "output_type": "stream",
          "name": "stdout",
          "text": [
            "With Bias: \n"
          ]
        },
        {
          "output_type": "display_data",
          "data": {
            "text/plain": [
              "<Figure size 432x288 with 1 Axes>"
            ],
            "image/png": "[encoded data removed]"
          },
          "metadata": {
            "needs_background": "light"
          }
        }
      ]
    },
    {
      "cell_type": "code",
      "source": [
        "class_names = [\"0\",\"1\",\"2\",\"3\",\"4\",\"5\",\"6\",\"7\",\"8\",\"9\"]\n",
        "fig, ax = plt.subplots()\n",
        "im = ax.imshow(confusion_matrix, interpolation='nearest', cmap=plt.cm.Oranges)\n",
        "ax.set(xticks=np.arange(confusion_matrix.shape[1]),\n",
        "        yticks=np.arange(confusion_matrix.shape[0]),\n",
        "        xticklabels=class_names, yticklabels=class_names, title='No Bias Confusion matrix', ylabel='Original label', xlabel='Predicted label')\n",
        "\n",
        "thresh = confusion_matrix.max() / 2\n",
        "for i in range(confusion_matrix.shape[0]):\n",
        "    for j in range(confusion_matrix.shape[1]):\n",
        "        ax.text(j, i, format(confusion_matrix[i, j], 'd'), ha=\"center\", va=\"center\",\n",
        "                 color=\"white\" if confusion_matrix[i, j] > thresh else \"black\")\n",
        "\n",
        "print(\"Without Bias: \")\n",
        "plt.show()"
      ],
      "metadata": {
        "colab": {
          "base_uri": "https://localhost:8080/",
          "height": 313
        },
        "id": "2iociO42ecId",
        "outputId": "3f526583-71a1-4a9f-cb1a-41c90d3f9136"
      },
      "execution_count": null,
      "outputs": [
        {
          "output_type": "stream",
          "name": "stdout",
          "text": [
            "Without Bias: \n"
          ]
        },
        {
          "output_type": "display_data",
          "data": {
            "text/plain": [
              "<Figure size 432x288 with 1 Axes>"
            ],
            "image/png": "[encoded data removed]"
          },
          "metadata": {
            "needs_background": "light"
          }
        }
      ]
    }
  ]
}